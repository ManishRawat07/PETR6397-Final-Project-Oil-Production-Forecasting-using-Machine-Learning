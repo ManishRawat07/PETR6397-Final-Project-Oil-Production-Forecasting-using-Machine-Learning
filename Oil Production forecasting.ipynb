{
 "cells": [
  {
   "attachments": {},
   "cell_type": "markdown",
   "metadata": {},
   "source": [
    "# PETR6397 Final Project: Oil Production Forecasting using Machine Learning"
   ]
  },
  {
   "cell_type": "code",
   "execution_count": 300,
   "metadata": {},
   "outputs": [
    {
     "name": "stderr",
     "output_type": "stream",
     "text": [
      "WARNING: Ignoring invalid distribution -rotobuf (c:\\users\\jaini\\anaconda3\\lib\\site-packages)\n",
      "ERROR: Invalid requirement: '#'\n",
      "WARNING: Ignoring invalid distribution -rotobuf (c:\\users\\jaini\\anaconda3\\lib\\site-packages)\n",
      "WARNING: Ignoring invalid distribution -rotobuf (c:\\users\\jaini\\anaconda3\\lib\\site-packages)\n",
      "WARNING: Ignoring invalid distribution -rotobuf (c:\\users\\jaini\\anaconda3\\lib\\site-packages)\n",
      "WARNING: Ignoring invalid distribution -rotobuf (c:\\users\\jaini\\anaconda3\\lib\\site-packages)\n",
      "ERROR: Invalid requirement: '#'\n",
      "WARNING: Ignoring invalid distribution -rotobuf (c:\\users\\jaini\\anaconda3\\lib\\site-packages)\n",
      "WARNING: Ignoring invalid distribution -rotobuf (c:\\users\\jaini\\anaconda3\\lib\\site-packages)\n",
      "WARNING: Ignoring invalid distribution -rotobuf (c:\\users\\jaini\\anaconda3\\lib\\site-packages)\n",
      "WARNING: Ignoring invalid distribution -rotobuf (c:\\users\\jaini\\anaconda3\\lib\\site-packages)\n",
      "ERROR: Invalid requirement: '#'\n",
      "WARNING: Ignoring invalid distribution -rotobuf (c:\\users\\jaini\\anaconda3\\lib\\site-packages)\n",
      "WARNING: Ignoring invalid distribution -rotobuf (c:\\users\\jaini\\anaconda3\\lib\\site-packages)\n",
      "WARNING: Ignoring invalid distribution -rotobuf (c:\\users\\jaini\\anaconda3\\lib\\site-packages)\n",
      "WARNING: Ignoring invalid distribution -rotobuf (c:\\users\\jaini\\anaconda3\\lib\\site-packages)\n",
      "ERROR: Invalid requirement: '#'\n",
      "WARNING: Ignoring invalid distribution -rotobuf (c:\\users\\jaini\\anaconda3\\lib\\site-packages)\n",
      "WARNING: Ignoring invalid distribution -rotobuf (c:\\users\\jaini\\anaconda3\\lib\\site-packages)\n",
      "WARNING: Ignoring invalid distribution -rotobuf (c:\\users\\jaini\\anaconda3\\lib\\site-packages)\n",
      "WARNING: Ignoring invalid distribution -rotobuf (c:\\users\\jaini\\anaconda3\\lib\\site-packages)\n",
      "ERROR: Invalid requirement: '#'\n",
      "WARNING: Ignoring invalid distribution -rotobuf (c:\\users\\jaini\\anaconda3\\lib\\site-packages)\n",
      "WARNING: Ignoring invalid distribution -rotobuf (c:\\users\\jaini\\anaconda3\\lib\\site-packages)\n",
      "WARNING: Ignoring invalid distribution -rotobuf (c:\\users\\jaini\\anaconda3\\lib\\site-packages)\n",
      "WARNING: Ignoring invalid distribution -rotobuf (c:\\users\\jaini\\anaconda3\\lib\\site-packages)\n",
      "ERROR: Invalid requirement: '#'\n",
      "WARNING: Ignoring invalid distribution -rotobuf (c:\\users\\jaini\\anaconda3\\lib\\site-packages)\n",
      "WARNING: Ignoring invalid distribution -rotobuf (c:\\users\\jaini\\anaconda3\\lib\\site-packages)\n",
      "WARNING: Ignoring invalid distribution -rotobuf (c:\\users\\jaini\\anaconda3\\lib\\site-packages)\n",
      "WARNING: Ignoring invalid distribution -rotobuf (c:\\users\\jaini\\anaconda3\\lib\\site-packages)\n",
      "ERROR: Invalid requirement: '#'\n",
      "WARNING: Ignoring invalid distribution -rotobuf (c:\\users\\jaini\\anaconda3\\lib\\site-packages)\n",
      "WARNING: Ignoring invalid distribution -rotobuf (c:\\users\\jaini\\anaconda3\\lib\\site-packages)\n",
      "WARNING: Ignoring invalid distribution -rotobuf (c:\\users\\jaini\\anaconda3\\lib\\site-packages)\n",
      "WARNING: Ignoring invalid distribution -rotobuf (c:\\users\\jaini\\anaconda3\\lib\\site-packages)\n",
      "ERROR: Invalid requirement: '#'\n",
      "WARNING: Ignoring invalid distribution -rotobuf (c:\\users\\jaini\\anaconda3\\lib\\site-packages)\n",
      "WARNING: Ignoring invalid distribution -rotobuf (c:\\users\\jaini\\anaconda3\\lib\\site-packages)\n",
      "WARNING: Ignoring invalid distribution -rotobuf (c:\\users\\jaini\\anaconda3\\lib\\site-packages)\n"
     ]
    }
   ],
   "source": [
    "# Install required libraries\n",
    "\n",
    "! pip install -q seaborn       # seaborn \n",
    "! pip install -q plotly        # plotly\n",
    "! pip install -q matplotlib    # matplotlib\n",
    "! pip install -q xgboost       # XGBoost\n",
    "! pip install -q sklearn       # sklearn\n",
    "! pip install -q scikit-learn  # scikit-learn:\n",
    "! pip install -q statsmodels   # statsmodels\n",
    "! pip install -q pmdarima      # pmdarima\n",
    "\n",
    "# Import libraries\n",
    "import pandas as pd\n",
    "import numpy as np\n",
    "import matplotlib.pyplot as plt\n",
    "import datetime\n",
    "import seaborn as sns\n",
    "import plotly.graph_objects as go\n",
    "from sklearn.preprocessing import StandardScaler\n",
    "from sklearn.model_selection import train_test_split, GridSearchCV, KFold\n",
    "from sklearn.linear_model import LinearRegression, Ridge, Lasso\n",
    "from sklearn.neighbors import KNeighborsRegressor\n",
    "from sklearn.tree import DecisionTreeRegressor\n",
    "from sklearn.ensemble import RandomForestRegressor\n",
    "import xgboost as xgb\n",
    "from sklearn.metrics import r2_score, mean_squared_error\n",
    "import warnings\n",
    "warnings.filterwarnings(\"ignore\")\n"
   ]
  },
  {
   "attachments": {},
   "cell_type": "markdown",
   "metadata": {},
   "source": [
    "## Part 1.  Exploratory Data Analysis"
   ]
  },
  {
   "cell_type": "code",
   "execution_count": 301,
   "metadata": {},
   "outputs": [
    {
     "data": {
      "text/html": [
       "<div>\n",
       "<style scoped>\n",
       "    .dataframe tbody tr th:only-of-type {\n",
       "        vertical-align: middle;\n",
       "    }\n",
       "\n",
       "    .dataframe tbody tr th {\n",
       "        vertical-align: top;\n",
       "    }\n",
       "\n",
       "    .dataframe thead th {\n",
       "        text-align: right;\n",
       "    }\n",
       "</style>\n",
       "<table border=\"1\" class=\"dataframe\">\n",
       "  <thead>\n",
       "    <tr style=\"text-align: right;\">\n",
       "      <th></th>\n",
       "      <th>Entity ID</th>\n",
       "      <th>API/UWI</th>\n",
       "      <th>API/UWI List</th>\n",
       "      <th>Monthly Production Date</th>\n",
       "      <th>Monthly Oil</th>\n",
       "      <th>Monthly Gas</th>\n",
       "      <th>Monthly Water</th>\n",
       "      <th>Well Count</th>\n",
       "      <th>Days</th>\n",
       "      <th>Daily Avg Oil</th>\n",
       "      <th>Daily Avg Gas</th>\n",
       "      <th>Daily Avg Water</th>\n",
       "      <th>Reservoir</th>\n",
       "      <th>Well/Lease Name</th>\n",
       "      <th>Well Number</th>\n",
       "      <th>Operator Company Name</th>\n",
       "      <th>Production Type</th>\n",
       "      <th>Production Status</th>\n",
       "      <th>Entity Type</th>\n",
       "      <th>Producing Month Number</th>\n",
       "    </tr>\n",
       "  </thead>\n",
       "  <tbody>\n",
       "    <tr>\n",
       "      <th>0</th>\n",
       "      <td>130854587</td>\n",
       "      <td>4.213540e+13</td>\n",
       "      <td>4213538451</td>\n",
       "      <td>12/1/19</td>\n",
       "      <td>1.0</td>\n",
       "      <td>139.0</td>\n",
       "      <td>7</td>\n",
       "      <td>1</td>\n",
       "      <td>NaN</td>\n",
       "      <td>0.03</td>\n",
       "      <td>4.48</td>\n",
       "      <td>0.23</td>\n",
       "      <td>CLEAR FORK</td>\n",
       "      <td>SCIMITAR</td>\n",
       "      <td>1</td>\n",
       "      <td>OCCIDENTAL PETROLEUM</td>\n",
       "      <td>OIL</td>\n",
       "      <td>ACTIVE</td>\n",
       "      <td>COM</td>\n",
       "      <td>1</td>\n",
       "    </tr>\n",
       "    <tr>\n",
       "      <th>1</th>\n",
       "      <td>130854587</td>\n",
       "      <td>4.213540e+13</td>\n",
       "      <td>4213538451</td>\n",
       "      <td>1/1/20</td>\n",
       "      <td>22.0</td>\n",
       "      <td>270.0</td>\n",
       "      <td>1205</td>\n",
       "      <td>1</td>\n",
       "      <td>NaN</td>\n",
       "      <td>0.71</td>\n",
       "      <td>8.71</td>\n",
       "      <td>38.87</td>\n",
       "      <td>CLEAR FORK</td>\n",
       "      <td>SCIMITAR</td>\n",
       "      <td>1</td>\n",
       "      <td>OCCIDENTAL PETROLEUM</td>\n",
       "      <td>OIL</td>\n",
       "      <td>ACTIVE</td>\n",
       "      <td>COM</td>\n",
       "      <td>2</td>\n",
       "    </tr>\n",
       "    <tr>\n",
       "      <th>2</th>\n",
       "      <td>130854587</td>\n",
       "      <td>4.213540e+13</td>\n",
       "      <td>4213538451</td>\n",
       "      <td>2/1/20</td>\n",
       "      <td>15.0</td>\n",
       "      <td>130.0</td>\n",
       "      <td>846</td>\n",
       "      <td>1</td>\n",
       "      <td>NaN</td>\n",
       "      <td>0.52</td>\n",
       "      <td>4.48</td>\n",
       "      <td>29.17</td>\n",
       "      <td>CLEAR FORK</td>\n",
       "      <td>SCIMITAR</td>\n",
       "      <td>1</td>\n",
       "      <td>OCCIDENTAL PETROLEUM</td>\n",
       "      <td>OIL</td>\n",
       "      <td>ACTIVE</td>\n",
       "      <td>COM</td>\n",
       "      <td>3</td>\n",
       "    </tr>\n",
       "    <tr>\n",
       "      <th>3</th>\n",
       "      <td>130854587</td>\n",
       "      <td>4.213540e+13</td>\n",
       "      <td>4213538451</td>\n",
       "      <td>3/1/20</td>\n",
       "      <td>14.0</td>\n",
       "      <td>308.0</td>\n",
       "      <td>788</td>\n",
       "      <td>1</td>\n",
       "      <td>NaN</td>\n",
       "      <td>0.45</td>\n",
       "      <td>9.94</td>\n",
       "      <td>25.42</td>\n",
       "      <td>CLEAR FORK</td>\n",
       "      <td>SCIMITAR</td>\n",
       "      <td>1</td>\n",
       "      <td>OCCIDENTAL PETROLEUM</td>\n",
       "      <td>OIL</td>\n",
       "      <td>ACTIVE</td>\n",
       "      <td>COM</td>\n",
       "      <td>4</td>\n",
       "    </tr>\n",
       "    <tr>\n",
       "      <th>4</th>\n",
       "      <td>130854587</td>\n",
       "      <td>4.213540e+13</td>\n",
       "      <td>4213538451</td>\n",
       "      <td>4/1/20</td>\n",
       "      <td>13.0</td>\n",
       "      <td>268.0</td>\n",
       "      <td>773</td>\n",
       "      <td>1</td>\n",
       "      <td>NaN</td>\n",
       "      <td>0.43</td>\n",
       "      <td>8.93</td>\n",
       "      <td>25.77</td>\n",
       "      <td>CLEAR FORK</td>\n",
       "      <td>SCIMITAR</td>\n",
       "      <td>1</td>\n",
       "      <td>OCCIDENTAL PETROLEUM</td>\n",
       "      <td>OIL</td>\n",
       "      <td>ACTIVE</td>\n",
       "      <td>COM</td>\n",
       "      <td>5</td>\n",
       "    </tr>\n",
       "    <tr>\n",
       "      <th>5</th>\n",
       "      <td>130854587</td>\n",
       "      <td>4.213540e+13</td>\n",
       "      <td>4213538451</td>\n",
       "      <td>5/1/20</td>\n",
       "      <td>9.0</td>\n",
       "      <td>31.0</td>\n",
       "      <td>546</td>\n",
       "      <td>1</td>\n",
       "      <td>NaN</td>\n",
       "      <td>0.29</td>\n",
       "      <td>1.00</td>\n",
       "      <td>17.61</td>\n",
       "      <td>CLEAR FORK</td>\n",
       "      <td>SCIMITAR</td>\n",
       "      <td>1</td>\n",
       "      <td>OCCIDENTAL PETROLEUM</td>\n",
       "      <td>OIL</td>\n",
       "      <td>ACTIVE</td>\n",
       "      <td>COM</td>\n",
       "      <td>6</td>\n",
       "    </tr>\n",
       "    <tr>\n",
       "      <th>6</th>\n",
       "      <td>130854587</td>\n",
       "      <td>4.213540e+13</td>\n",
       "      <td>4213538451</td>\n",
       "      <td>6/1/20</td>\n",
       "      <td>6.0</td>\n",
       "      <td>0.0</td>\n",
       "      <td>395</td>\n",
       "      <td>1</td>\n",
       "      <td>NaN</td>\n",
       "      <td>0.20</td>\n",
       "      <td>0.00</td>\n",
       "      <td>13.17</td>\n",
       "      <td>CLEAR FORK</td>\n",
       "      <td>SCIMITAR</td>\n",
       "      <td>1</td>\n",
       "      <td>OCCIDENTAL PETROLEUM</td>\n",
       "      <td>OIL</td>\n",
       "      <td>ACTIVE</td>\n",
       "      <td>COM</td>\n",
       "      <td>7</td>\n",
       "    </tr>\n",
       "    <tr>\n",
       "      <th>7</th>\n",
       "      <td>130854587</td>\n",
       "      <td>4.213540e+13</td>\n",
       "      <td>4213538451</td>\n",
       "      <td>7/1/20</td>\n",
       "      <td>6.0</td>\n",
       "      <td>244.0</td>\n",
       "      <td>435</td>\n",
       "      <td>1</td>\n",
       "      <td>NaN</td>\n",
       "      <td>0.19</td>\n",
       "      <td>7.87</td>\n",
       "      <td>14.03</td>\n",
       "      <td>CLEAR FORK</td>\n",
       "      <td>SCIMITAR</td>\n",
       "      <td>1</td>\n",
       "      <td>OCCIDENTAL PETROLEUM</td>\n",
       "      <td>OIL</td>\n",
       "      <td>ACTIVE</td>\n",
       "      <td>COM</td>\n",
       "      <td>8</td>\n",
       "    </tr>\n",
       "    <tr>\n",
       "      <th>8</th>\n",
       "      <td>130854587</td>\n",
       "      <td>4.213540e+13</td>\n",
       "      <td>4213538451</td>\n",
       "      <td>8/1/20</td>\n",
       "      <td>12.0</td>\n",
       "      <td>262.0</td>\n",
       "      <td>832</td>\n",
       "      <td>1</td>\n",
       "      <td>NaN</td>\n",
       "      <td>0.39</td>\n",
       "      <td>8.45</td>\n",
       "      <td>26.84</td>\n",
       "      <td>CLEAR FORK</td>\n",
       "      <td>SCIMITAR</td>\n",
       "      <td>1</td>\n",
       "      <td>OCCIDENTAL PETROLEUM</td>\n",
       "      <td>OIL</td>\n",
       "      <td>ACTIVE</td>\n",
       "      <td>COM</td>\n",
       "      <td>9</td>\n",
       "    </tr>\n",
       "    <tr>\n",
       "      <th>9</th>\n",
       "      <td>130854587</td>\n",
       "      <td>4.213540e+13</td>\n",
       "      <td>4213538451</td>\n",
       "      <td>9/1/20</td>\n",
       "      <td>10.0</td>\n",
       "      <td>188.0</td>\n",
       "      <td>698</td>\n",
       "      <td>1</td>\n",
       "      <td>NaN</td>\n",
       "      <td>0.33</td>\n",
       "      <td>6.27</td>\n",
       "      <td>23.27</td>\n",
       "      <td>CLEAR FORK</td>\n",
       "      <td>SCIMITAR</td>\n",
       "      <td>1</td>\n",
       "      <td>OCCIDENTAL PETROLEUM</td>\n",
       "      <td>OIL</td>\n",
       "      <td>ACTIVE</td>\n",
       "      <td>COM</td>\n",
       "      <td>10</td>\n",
       "    </tr>\n",
       "  </tbody>\n",
       "</table>\n",
       "</div>"
      ],
      "text/plain": [
       "   Entity ID       API/UWI API/UWI List Monthly Production Date  Monthly Oil  \\\n",
       "0  130854587  4.213540e+13   4213538451                 12/1/19          1.0   \n",
       "1  130854587  4.213540e+13   4213538451                  1/1/20         22.0   \n",
       "2  130854587  4.213540e+13   4213538451                  2/1/20         15.0   \n",
       "3  130854587  4.213540e+13   4213538451                  3/1/20         14.0   \n",
       "4  130854587  4.213540e+13   4213538451                  4/1/20         13.0   \n",
       "5  130854587  4.213540e+13   4213538451                  5/1/20          9.0   \n",
       "6  130854587  4.213540e+13   4213538451                  6/1/20          6.0   \n",
       "7  130854587  4.213540e+13   4213538451                  7/1/20          6.0   \n",
       "8  130854587  4.213540e+13   4213538451                  8/1/20         12.0   \n",
       "9  130854587  4.213540e+13   4213538451                  9/1/20         10.0   \n",
       "\n",
       "   Monthly Gas  Monthly Water  Well Count  Days  Daily Avg Oil  Daily Avg Gas  \\\n",
       "0        139.0              7           1   NaN           0.03           4.48   \n",
       "1        270.0           1205           1   NaN           0.71           8.71   \n",
       "2        130.0            846           1   NaN           0.52           4.48   \n",
       "3        308.0            788           1   NaN           0.45           9.94   \n",
       "4        268.0            773           1   NaN           0.43           8.93   \n",
       "5         31.0            546           1   NaN           0.29           1.00   \n",
       "6          0.0            395           1   NaN           0.20           0.00   \n",
       "7        244.0            435           1   NaN           0.19           7.87   \n",
       "8        262.0            832           1   NaN           0.39           8.45   \n",
       "9        188.0            698           1   NaN           0.33           6.27   \n",
       "\n",
       "   Daily Avg Water   Reservoir Well/Lease Name Well Number  \\\n",
       "0             0.23  CLEAR FORK        SCIMITAR           1   \n",
       "1            38.87  CLEAR FORK        SCIMITAR           1   \n",
       "2            29.17  CLEAR FORK        SCIMITAR           1   \n",
       "3            25.42  CLEAR FORK        SCIMITAR           1   \n",
       "4            25.77  CLEAR FORK        SCIMITAR           1   \n",
       "5            17.61  CLEAR FORK        SCIMITAR           1   \n",
       "6            13.17  CLEAR FORK        SCIMITAR           1   \n",
       "7            14.03  CLEAR FORK        SCIMITAR           1   \n",
       "8            26.84  CLEAR FORK        SCIMITAR           1   \n",
       "9            23.27  CLEAR FORK        SCIMITAR           1   \n",
       "\n",
       "  Operator Company Name Production Type Production Status Entity Type  \\\n",
       "0  OCCIDENTAL PETROLEUM             OIL            ACTIVE         COM   \n",
       "1  OCCIDENTAL PETROLEUM             OIL            ACTIVE         COM   \n",
       "2  OCCIDENTAL PETROLEUM             OIL            ACTIVE         COM   \n",
       "3  OCCIDENTAL PETROLEUM             OIL            ACTIVE         COM   \n",
       "4  OCCIDENTAL PETROLEUM             OIL            ACTIVE         COM   \n",
       "5  OCCIDENTAL PETROLEUM             OIL            ACTIVE         COM   \n",
       "6  OCCIDENTAL PETROLEUM             OIL            ACTIVE         COM   \n",
       "7  OCCIDENTAL PETROLEUM             OIL            ACTIVE         COM   \n",
       "8  OCCIDENTAL PETROLEUM             OIL            ACTIVE         COM   \n",
       "9  OCCIDENTAL PETROLEUM             OIL            ACTIVE         COM   \n",
       "\n",
       "   Producing Month Number  \n",
       "0                       1  \n",
       "1                       2  \n",
       "2                       3  \n",
       "3                       4  \n",
       "4                       5  \n",
       "5                       6  \n",
       "6                       7  \n",
       "7                       8  \n",
       "8                       9  \n",
       "9                      10  "
      ]
     },
     "execution_count": 301,
     "metadata": {},
     "output_type": "execute_result"
    }
   ],
   "source": [
    "# Load the two data files from data folder into one dataframe df\n",
    "\n",
    "# read the first CSV file into a DataFrame\n",
    "df = pd.read_csv('Data/MonthlyProduction1.CSV')\n",
    "\n",
    "# # read the second CSV file into another DataFrame\n",
    "# df2 = pd.read_csv('Data/MonthlyProduction2.CSV')\n",
    "\n",
    "# # concatenate the two DataFrames vertically\n",
    "# df= pd.concat([df1, df2], axis=0)\n",
    "\n",
    "\n",
    "# Visualize df\n",
    "df.head(10)"
   ]
  },
  {
   "cell_type": "code",
   "execution_count": 302,
   "metadata": {},
   "outputs": [
    {
     "name": "stdout",
     "output_type": "stream",
     "text": [
      "Shape of the DataFrame: (386648, 20)\n"
     ]
    }
   ],
   "source": [
    "# check the shape of the DataFrame\n",
    "\n",
    "print(\"Shape of the DataFrame:\", df.shape)"
   ]
  },
  {
   "cell_type": "code",
   "execution_count": 303,
   "metadata": {},
   "outputs": [
    {
     "name": "stdout",
     "output_type": "stream",
     "text": [
      "<class 'pandas.core.frame.DataFrame'>\n",
      "RangeIndex: 386648 entries, 0 to 386647\n",
      "Data columns (total 20 columns):\n",
      " #   Column                   Non-Null Count   Dtype  \n",
      "---  ------                   --------------   -----  \n",
      " 0   Entity ID                386648 non-null  int64  \n",
      " 1   API/UWI                  386648 non-null  float64\n",
      " 2   API/UWI List             386648 non-null  object \n",
      " 3   Monthly Production Date  386648 non-null  object \n",
      " 4   Monthly Oil              386458 non-null  float64\n",
      " 5   Monthly Gas              386470 non-null  float64\n",
      " 6   Monthly Water            386648 non-null  int64  \n",
      " 7   Well Count               386648 non-null  int64  \n",
      " 8   Days                     13502 non-null   float64\n",
      " 9   Daily Avg Oil            386458 non-null  float64\n",
      " 10  Daily Avg Gas            386470 non-null  float64\n",
      " 11  Daily Avg Water          386648 non-null  float64\n",
      " 12  Reservoir                385306 non-null  object \n",
      " 13  Well/Lease Name          386648 non-null  object \n",
      " 14  Well Number              383215 non-null  object \n",
      " 15  Operator Company Name    386648 non-null  object \n",
      " 16  Production Type          386648 non-null  object \n",
      " 17  Production Status        386648 non-null  object \n",
      " 18  Entity Type              386648 non-null  object \n",
      " 19  Producing Month Number   386648 non-null  int64  \n",
      "dtypes: float64(7), int64(4), object(9)\n",
      "memory usage: 59.0+ MB\n"
     ]
    }
   ],
   "source": [
    "# Data Profiling\n",
    "\n",
    "df.info()"
   ]
  },
  {
   "cell_type": "code",
   "execution_count": 304,
   "metadata": {},
   "outputs": [
    {
     "name": "stdout",
     "output_type": "stream",
     "text": [
      "Unique Production Types: ['OIL' 'GAS']\n"
     ]
    }
   ],
   "source": [
    "# Checking Production type\n",
    "\n",
    "production_types = df['Production Type'].unique()\n",
    "print(\"Unique Production Types:\", production_types)\n"
   ]
  },
  {
   "attachments": {},
   "cell_type": "markdown",
   "metadata": {},
   "source": [
    "We have two types of Production in the datset. \n",
    "\n",
    "As we are focussed only into oil production; We will filter column 'Production Type' to 'Oil'"
   ]
  },
  {
   "cell_type": "code",
   "execution_count": 305,
   "metadata": {},
   "outputs": [
    {
     "data": {
      "text/html": [
       "<div>\n",
       "<style scoped>\n",
       "    .dataframe tbody tr th:only-of-type {\n",
       "        vertical-align: middle;\n",
       "    }\n",
       "\n",
       "    .dataframe tbody tr th {\n",
       "        vertical-align: top;\n",
       "    }\n",
       "\n",
       "    .dataframe thead th {\n",
       "        text-align: right;\n",
       "    }\n",
       "</style>\n",
       "<table border=\"1\" class=\"dataframe\">\n",
       "  <thead>\n",
       "    <tr style=\"text-align: right;\">\n",
       "      <th></th>\n",
       "      <th>Entity ID</th>\n",
       "      <th>API/UWI</th>\n",
       "      <th>API/UWI List</th>\n",
       "      <th>Monthly Production Date</th>\n",
       "      <th>Monthly Oil</th>\n",
       "      <th>Monthly Gas</th>\n",
       "      <th>Monthly Water</th>\n",
       "      <th>Well Count</th>\n",
       "      <th>Days</th>\n",
       "      <th>Daily Avg Oil</th>\n",
       "      <th>Daily Avg Gas</th>\n",
       "      <th>Daily Avg Water</th>\n",
       "      <th>Reservoir</th>\n",
       "      <th>Well/Lease Name</th>\n",
       "      <th>Well Number</th>\n",
       "      <th>Operator Company Name</th>\n",
       "      <th>Production Type</th>\n",
       "      <th>Production Status</th>\n",
       "      <th>Entity Type</th>\n",
       "      <th>Producing Month Number</th>\n",
       "    </tr>\n",
       "  </thead>\n",
       "  <tbody>\n",
       "    <tr>\n",
       "      <th>0</th>\n",
       "      <td>130854587</td>\n",
       "      <td>4.213540e+13</td>\n",
       "      <td>4213538451</td>\n",
       "      <td>12/1/19</td>\n",
       "      <td>1.0</td>\n",
       "      <td>139.0</td>\n",
       "      <td>7</td>\n",
       "      <td>1</td>\n",
       "      <td>NaN</td>\n",
       "      <td>0.03</td>\n",
       "      <td>4.48</td>\n",
       "      <td>0.23</td>\n",
       "      <td>CLEAR FORK</td>\n",
       "      <td>SCIMITAR</td>\n",
       "      <td>1</td>\n",
       "      <td>OCCIDENTAL PETROLEUM</td>\n",
       "      <td>OIL</td>\n",
       "      <td>ACTIVE</td>\n",
       "      <td>COM</td>\n",
       "      <td>1</td>\n",
       "    </tr>\n",
       "    <tr>\n",
       "      <th>1</th>\n",
       "      <td>130854587</td>\n",
       "      <td>4.213540e+13</td>\n",
       "      <td>4213538451</td>\n",
       "      <td>1/1/20</td>\n",
       "      <td>22.0</td>\n",
       "      <td>270.0</td>\n",
       "      <td>1205</td>\n",
       "      <td>1</td>\n",
       "      <td>NaN</td>\n",
       "      <td>0.71</td>\n",
       "      <td>8.71</td>\n",
       "      <td>38.87</td>\n",
       "      <td>CLEAR FORK</td>\n",
       "      <td>SCIMITAR</td>\n",
       "      <td>1</td>\n",
       "      <td>OCCIDENTAL PETROLEUM</td>\n",
       "      <td>OIL</td>\n",
       "      <td>ACTIVE</td>\n",
       "      <td>COM</td>\n",
       "      <td>2</td>\n",
       "    </tr>\n",
       "    <tr>\n",
       "      <th>2</th>\n",
       "      <td>130854587</td>\n",
       "      <td>4.213540e+13</td>\n",
       "      <td>4213538451</td>\n",
       "      <td>2/1/20</td>\n",
       "      <td>15.0</td>\n",
       "      <td>130.0</td>\n",
       "      <td>846</td>\n",
       "      <td>1</td>\n",
       "      <td>NaN</td>\n",
       "      <td>0.52</td>\n",
       "      <td>4.48</td>\n",
       "      <td>29.17</td>\n",
       "      <td>CLEAR FORK</td>\n",
       "      <td>SCIMITAR</td>\n",
       "      <td>1</td>\n",
       "      <td>OCCIDENTAL PETROLEUM</td>\n",
       "      <td>OIL</td>\n",
       "      <td>ACTIVE</td>\n",
       "      <td>COM</td>\n",
       "      <td>3</td>\n",
       "    </tr>\n",
       "    <tr>\n",
       "      <th>3</th>\n",
       "      <td>130854587</td>\n",
       "      <td>4.213540e+13</td>\n",
       "      <td>4213538451</td>\n",
       "      <td>3/1/20</td>\n",
       "      <td>14.0</td>\n",
       "      <td>308.0</td>\n",
       "      <td>788</td>\n",
       "      <td>1</td>\n",
       "      <td>NaN</td>\n",
       "      <td>0.45</td>\n",
       "      <td>9.94</td>\n",
       "      <td>25.42</td>\n",
       "      <td>CLEAR FORK</td>\n",
       "      <td>SCIMITAR</td>\n",
       "      <td>1</td>\n",
       "      <td>OCCIDENTAL PETROLEUM</td>\n",
       "      <td>OIL</td>\n",
       "      <td>ACTIVE</td>\n",
       "      <td>COM</td>\n",
       "      <td>4</td>\n",
       "    </tr>\n",
       "    <tr>\n",
       "      <th>4</th>\n",
       "      <td>130854587</td>\n",
       "      <td>4.213540e+13</td>\n",
       "      <td>4213538451</td>\n",
       "      <td>4/1/20</td>\n",
       "      <td>13.0</td>\n",
       "      <td>268.0</td>\n",
       "      <td>773</td>\n",
       "      <td>1</td>\n",
       "      <td>NaN</td>\n",
       "      <td>0.43</td>\n",
       "      <td>8.93</td>\n",
       "      <td>25.77</td>\n",
       "      <td>CLEAR FORK</td>\n",
       "      <td>SCIMITAR</td>\n",
       "      <td>1</td>\n",
       "      <td>OCCIDENTAL PETROLEUM</td>\n",
       "      <td>OIL</td>\n",
       "      <td>ACTIVE</td>\n",
       "      <td>COM</td>\n",
       "      <td>5</td>\n",
       "    </tr>\n",
       "    <tr>\n",
       "      <th>...</th>\n",
       "      <td>...</td>\n",
       "      <td>...</td>\n",
       "      <td>...</td>\n",
       "      <td>...</td>\n",
       "      <td>...</td>\n",
       "      <td>...</td>\n",
       "      <td>...</td>\n",
       "      <td>...</td>\n",
       "      <td>...</td>\n",
       "      <td>...</td>\n",
       "      <td>...</td>\n",
       "      <td>...</td>\n",
       "      <td>...</td>\n",
       "      <td>...</td>\n",
       "      <td>...</td>\n",
       "      <td>...</td>\n",
       "      <td>...</td>\n",
       "      <td>...</td>\n",
       "      <td>...</td>\n",
       "      <td>...</td>\n",
       "    </tr>\n",
       "    <tr>\n",
       "      <th>386643</th>\n",
       "      <td>127799434</td>\n",
       "      <td>4.213530e+13</td>\n",
       "      <td>4213533443</td>\n",
       "      <td>9/1/22</td>\n",
       "      <td>8.0</td>\n",
       "      <td>0.0</td>\n",
       "      <td>287</td>\n",
       "      <td>1</td>\n",
       "      <td>NaN</td>\n",
       "      <td>0.27</td>\n",
       "      <td>0.00</td>\n",
       "      <td>9.57</td>\n",
       "      <td>CLEAR FORK</td>\n",
       "      <td>GOLDSMITH-LANDRETH /DEEP/ UNIT</td>\n",
       "      <td>237</td>\n",
       "      <td>OCCIDENTAL PETROLEUM</td>\n",
       "      <td>OIL</td>\n",
       "      <td>ACTIVE</td>\n",
       "      <td>COM</td>\n",
       "      <td>497</td>\n",
       "    </tr>\n",
       "    <tr>\n",
       "      <th>386644</th>\n",
       "      <td>127799434</td>\n",
       "      <td>4.213530e+13</td>\n",
       "      <td>4213533443</td>\n",
       "      <td>10/1/22</td>\n",
       "      <td>7.0</td>\n",
       "      <td>0.0</td>\n",
       "      <td>240</td>\n",
       "      <td>1</td>\n",
       "      <td>NaN</td>\n",
       "      <td>0.23</td>\n",
       "      <td>0.00</td>\n",
       "      <td>7.74</td>\n",
       "      <td>CLEAR FORK</td>\n",
       "      <td>GOLDSMITH-LANDRETH /DEEP/ UNIT</td>\n",
       "      <td>237</td>\n",
       "      <td>OCCIDENTAL PETROLEUM</td>\n",
       "      <td>OIL</td>\n",
       "      <td>ACTIVE</td>\n",
       "      <td>COM</td>\n",
       "      <td>498</td>\n",
       "    </tr>\n",
       "    <tr>\n",
       "      <th>386645</th>\n",
       "      <td>127799434</td>\n",
       "      <td>4.213530e+13</td>\n",
       "      <td>4213533443</td>\n",
       "      <td>11/1/22</td>\n",
       "      <td>9.0</td>\n",
       "      <td>0.0</td>\n",
       "      <td>294</td>\n",
       "      <td>1</td>\n",
       "      <td>NaN</td>\n",
       "      <td>0.30</td>\n",
       "      <td>0.00</td>\n",
       "      <td>9.80</td>\n",
       "      <td>CLEAR FORK</td>\n",
       "      <td>GOLDSMITH-LANDRETH /DEEP/ UNIT</td>\n",
       "      <td>237</td>\n",
       "      <td>OCCIDENTAL PETROLEUM</td>\n",
       "      <td>OIL</td>\n",
       "      <td>ACTIVE</td>\n",
       "      <td>COM</td>\n",
       "      <td>499</td>\n",
       "    </tr>\n",
       "    <tr>\n",
       "      <th>386646</th>\n",
       "      <td>127799434</td>\n",
       "      <td>4.213530e+13</td>\n",
       "      <td>4213533443</td>\n",
       "      <td>12/1/22</td>\n",
       "      <td>9.0</td>\n",
       "      <td>0.0</td>\n",
       "      <td>298</td>\n",
       "      <td>1</td>\n",
       "      <td>NaN</td>\n",
       "      <td>0.29</td>\n",
       "      <td>0.00</td>\n",
       "      <td>9.61</td>\n",
       "      <td>CLEAR FORK</td>\n",
       "      <td>GOLDSMITH-LANDRETH /DEEP/ UNIT</td>\n",
       "      <td>237</td>\n",
       "      <td>OCCIDENTAL PETROLEUM</td>\n",
       "      <td>OIL</td>\n",
       "      <td>ACTIVE</td>\n",
       "      <td>COM</td>\n",
       "      <td>500</td>\n",
       "    </tr>\n",
       "    <tr>\n",
       "      <th>386647</th>\n",
       "      <td>127799434</td>\n",
       "      <td>4.213530e+13</td>\n",
       "      <td>4213533443</td>\n",
       "      <td>1/1/23</td>\n",
       "      <td>9.0</td>\n",
       "      <td>0.0</td>\n",
       "      <td>308</td>\n",
       "      <td>1</td>\n",
       "      <td>NaN</td>\n",
       "      <td>0.29</td>\n",
       "      <td>0.00</td>\n",
       "      <td>9.94</td>\n",
       "      <td>CLEAR FORK</td>\n",
       "      <td>GOLDSMITH-LANDRETH /DEEP/ UNIT</td>\n",
       "      <td>237</td>\n",
       "      <td>OCCIDENTAL PETROLEUM</td>\n",
       "      <td>OIL</td>\n",
       "      <td>ACTIVE</td>\n",
       "      <td>COM</td>\n",
       "      <td>501</td>\n",
       "    </tr>\n",
       "  </tbody>\n",
       "</table>\n",
       "<p>385854 rows × 20 columns</p>\n",
       "</div>"
      ],
      "text/plain": [
       "        Entity ID       API/UWI API/UWI List Monthly Production Date  \\\n",
       "0       130854587  4.213540e+13   4213538451                 12/1/19   \n",
       "1       130854587  4.213540e+13   4213538451                  1/1/20   \n",
       "2       130854587  4.213540e+13   4213538451                  2/1/20   \n",
       "3       130854587  4.213540e+13   4213538451                  3/1/20   \n",
       "4       130854587  4.213540e+13   4213538451                  4/1/20   \n",
       "...           ...           ...          ...                     ...   \n",
       "386643  127799434  4.213530e+13   4213533443                  9/1/22   \n",
       "386644  127799434  4.213530e+13   4213533443                 10/1/22   \n",
       "386645  127799434  4.213530e+13   4213533443                 11/1/22   \n",
       "386646  127799434  4.213530e+13   4213533443                 12/1/22   \n",
       "386647  127799434  4.213530e+13   4213533443                  1/1/23   \n",
       "\n",
       "        Monthly Oil  Monthly Gas  Monthly Water  Well Count  Days  \\\n",
       "0               1.0        139.0              7           1   NaN   \n",
       "1              22.0        270.0           1205           1   NaN   \n",
       "2              15.0        130.0            846           1   NaN   \n",
       "3              14.0        308.0            788           1   NaN   \n",
       "4              13.0        268.0            773           1   NaN   \n",
       "...             ...          ...            ...         ...   ...   \n",
       "386643          8.0          0.0            287           1   NaN   \n",
       "386644          7.0          0.0            240           1   NaN   \n",
       "386645          9.0          0.0            294           1   NaN   \n",
       "386646          9.0          0.0            298           1   NaN   \n",
       "386647          9.0          0.0            308           1   NaN   \n",
       "\n",
       "        Daily Avg Oil  Daily Avg Gas  Daily Avg Water   Reservoir  \\\n",
       "0                0.03           4.48             0.23  CLEAR FORK   \n",
       "1                0.71           8.71            38.87  CLEAR FORK   \n",
       "2                0.52           4.48            29.17  CLEAR FORK   \n",
       "3                0.45           9.94            25.42  CLEAR FORK   \n",
       "4                0.43           8.93            25.77  CLEAR FORK   \n",
       "...               ...            ...              ...         ...   \n",
       "386643           0.27           0.00             9.57  CLEAR FORK   \n",
       "386644           0.23           0.00             7.74  CLEAR FORK   \n",
       "386645           0.30           0.00             9.80  CLEAR FORK   \n",
       "386646           0.29           0.00             9.61  CLEAR FORK   \n",
       "386647           0.29           0.00             9.94  CLEAR FORK   \n",
       "\n",
       "                       Well/Lease Name Well Number Operator Company Name  \\\n",
       "0                             SCIMITAR           1  OCCIDENTAL PETROLEUM   \n",
       "1                             SCIMITAR           1  OCCIDENTAL PETROLEUM   \n",
       "2                             SCIMITAR           1  OCCIDENTAL PETROLEUM   \n",
       "3                             SCIMITAR           1  OCCIDENTAL PETROLEUM   \n",
       "4                             SCIMITAR           1  OCCIDENTAL PETROLEUM   \n",
       "...                                ...         ...                   ...   \n",
       "386643  GOLDSMITH-LANDRETH /DEEP/ UNIT         237  OCCIDENTAL PETROLEUM   \n",
       "386644  GOLDSMITH-LANDRETH /DEEP/ UNIT         237  OCCIDENTAL PETROLEUM   \n",
       "386645  GOLDSMITH-LANDRETH /DEEP/ UNIT         237  OCCIDENTAL PETROLEUM   \n",
       "386646  GOLDSMITH-LANDRETH /DEEP/ UNIT         237  OCCIDENTAL PETROLEUM   \n",
       "386647  GOLDSMITH-LANDRETH /DEEP/ UNIT         237  OCCIDENTAL PETROLEUM   \n",
       "\n",
       "       Production Type Production Status Entity Type  Producing Month Number  \n",
       "0                  OIL            ACTIVE         COM                       1  \n",
       "1                  OIL            ACTIVE         COM                       2  \n",
       "2                  OIL            ACTIVE         COM                       3  \n",
       "3                  OIL            ACTIVE         COM                       4  \n",
       "4                  OIL            ACTIVE         COM                       5  \n",
       "...                ...               ...         ...                     ...  \n",
       "386643             OIL            ACTIVE         COM                     497  \n",
       "386644             OIL            ACTIVE         COM                     498  \n",
       "386645             OIL            ACTIVE         COM                     499  \n",
       "386646             OIL            ACTIVE         COM                     500  \n",
       "386647             OIL            ACTIVE         COM                     501  \n",
       "\n",
       "[385854 rows x 20 columns]"
      ]
     },
     "execution_count": 305,
     "metadata": {},
     "output_type": "execute_result"
    }
   ],
   "source": [
    "# Filter dataset for only for oil production type\n",
    "\n",
    "df = df[df['Production Type'] == 'OIL']\n",
    "df"
   ]
  },
  {
   "cell_type": "code",
   "execution_count": 306,
   "metadata": {},
   "outputs": [
    {
     "name": "stdout",
     "output_type": "stream",
     "text": [
      "Shape of the DataFrame: (385854, 20)\n"
     ]
    }
   ],
   "source": [
    "# check the shape of the DataFrame\n",
    "\n",
    "print(\"Shape of the DataFrame:\", df.shape)"
   ]
  },
  {
   "cell_type": "code",
   "execution_count": 307,
   "metadata": {},
   "outputs": [
    {
     "name": "stdout",
     "output_type": "stream",
     "text": [
      "Total number of unique oil producing wells: 1046\n"
     ]
    }
   ],
   "source": [
    "# print total well count in the dataset\n",
    "\n",
    "well_count = df['Entity ID'].nunique()\n",
    "print(\"Total number of unique oil producing wells:\", well_count)"
   ]
  },
  {
   "cell_type": "code",
   "execution_count": 308,
   "metadata": {},
   "outputs": [
    {
     "data": {
      "text/html": [
       "<div>\n",
       "<style scoped>\n",
       "    .dataframe tbody tr th:only-of-type {\n",
       "        vertical-align: middle;\n",
       "    }\n",
       "\n",
       "    .dataframe tbody tr th {\n",
       "        vertical-align: top;\n",
       "    }\n",
       "\n",
       "    .dataframe thead th {\n",
       "        text-align: right;\n",
       "    }\n",
       "</style>\n",
       "<table border=\"1\" class=\"dataframe\">\n",
       "  <thead>\n",
       "    <tr style=\"text-align: right;\">\n",
       "      <th></th>\n",
       "      <th>Entity ID</th>\n",
       "      <th>API/UWI</th>\n",
       "      <th>API/UWI List</th>\n",
       "      <th>Monthly Production Date</th>\n",
       "      <th>Monthly Oil</th>\n",
       "      <th>Monthly Gas</th>\n",
       "      <th>Monthly Water</th>\n",
       "      <th>Well Count</th>\n",
       "      <th>Days</th>\n",
       "      <th>Daily Avg Oil</th>\n",
       "      <th>...</th>\n",
       "      <th>Daily Avg Water</th>\n",
       "      <th>Reservoir</th>\n",
       "      <th>Well/Lease Name</th>\n",
       "      <th>Well Number</th>\n",
       "      <th>Operator Company Name</th>\n",
       "      <th>Production Type</th>\n",
       "      <th>Production Status</th>\n",
       "      <th>Entity Type</th>\n",
       "      <th>Producing Month Number</th>\n",
       "      <th>GOR</th>\n",
       "    </tr>\n",
       "  </thead>\n",
       "  <tbody>\n",
       "    <tr>\n",
       "      <th>0</th>\n",
       "      <td>130854587</td>\n",
       "      <td>4.213540e+13</td>\n",
       "      <td>4213538451</td>\n",
       "      <td>12/1/19</td>\n",
       "      <td>1.0</td>\n",
       "      <td>139.0</td>\n",
       "      <td>7</td>\n",
       "      <td>1</td>\n",
       "      <td>NaN</td>\n",
       "      <td>0.03</td>\n",
       "      <td>...</td>\n",
       "      <td>0.23</td>\n",
       "      <td>CLEAR FORK</td>\n",
       "      <td>SCIMITAR</td>\n",
       "      <td>1</td>\n",
       "      <td>OCCIDENTAL PETROLEUM</td>\n",
       "      <td>OIL</td>\n",
       "      <td>ACTIVE</td>\n",
       "      <td>COM</td>\n",
       "      <td>1</td>\n",
       "      <td>139.000000</td>\n",
       "    </tr>\n",
       "    <tr>\n",
       "      <th>1</th>\n",
       "      <td>130854587</td>\n",
       "      <td>4.213540e+13</td>\n",
       "      <td>4213538451</td>\n",
       "      <td>1/1/20</td>\n",
       "      <td>22.0</td>\n",
       "      <td>270.0</td>\n",
       "      <td>1205</td>\n",
       "      <td>1</td>\n",
       "      <td>NaN</td>\n",
       "      <td>0.71</td>\n",
       "      <td>...</td>\n",
       "      <td>38.87</td>\n",
       "      <td>CLEAR FORK</td>\n",
       "      <td>SCIMITAR</td>\n",
       "      <td>1</td>\n",
       "      <td>OCCIDENTAL PETROLEUM</td>\n",
       "      <td>OIL</td>\n",
       "      <td>ACTIVE</td>\n",
       "      <td>COM</td>\n",
       "      <td>2</td>\n",
       "      <td>12.272727</td>\n",
       "    </tr>\n",
       "    <tr>\n",
       "      <th>2</th>\n",
       "      <td>130854587</td>\n",
       "      <td>4.213540e+13</td>\n",
       "      <td>4213538451</td>\n",
       "      <td>2/1/20</td>\n",
       "      <td>15.0</td>\n",
       "      <td>130.0</td>\n",
       "      <td>846</td>\n",
       "      <td>1</td>\n",
       "      <td>NaN</td>\n",
       "      <td>0.52</td>\n",
       "      <td>...</td>\n",
       "      <td>29.17</td>\n",
       "      <td>CLEAR FORK</td>\n",
       "      <td>SCIMITAR</td>\n",
       "      <td>1</td>\n",
       "      <td>OCCIDENTAL PETROLEUM</td>\n",
       "      <td>OIL</td>\n",
       "      <td>ACTIVE</td>\n",
       "      <td>COM</td>\n",
       "      <td>3</td>\n",
       "      <td>8.666667</td>\n",
       "    </tr>\n",
       "    <tr>\n",
       "      <th>3</th>\n",
       "      <td>130854587</td>\n",
       "      <td>4.213540e+13</td>\n",
       "      <td>4213538451</td>\n",
       "      <td>3/1/20</td>\n",
       "      <td>14.0</td>\n",
       "      <td>308.0</td>\n",
       "      <td>788</td>\n",
       "      <td>1</td>\n",
       "      <td>NaN</td>\n",
       "      <td>0.45</td>\n",
       "      <td>...</td>\n",
       "      <td>25.42</td>\n",
       "      <td>CLEAR FORK</td>\n",
       "      <td>SCIMITAR</td>\n",
       "      <td>1</td>\n",
       "      <td>OCCIDENTAL PETROLEUM</td>\n",
       "      <td>OIL</td>\n",
       "      <td>ACTIVE</td>\n",
       "      <td>COM</td>\n",
       "      <td>4</td>\n",
       "      <td>22.000000</td>\n",
       "    </tr>\n",
       "    <tr>\n",
       "      <th>4</th>\n",
       "      <td>130854587</td>\n",
       "      <td>4.213540e+13</td>\n",
       "      <td>4213538451</td>\n",
       "      <td>4/1/20</td>\n",
       "      <td>13.0</td>\n",
       "      <td>268.0</td>\n",
       "      <td>773</td>\n",
       "      <td>1</td>\n",
       "      <td>NaN</td>\n",
       "      <td>0.43</td>\n",
       "      <td>...</td>\n",
       "      <td>25.77</td>\n",
       "      <td>CLEAR FORK</td>\n",
       "      <td>SCIMITAR</td>\n",
       "      <td>1</td>\n",
       "      <td>OCCIDENTAL PETROLEUM</td>\n",
       "      <td>OIL</td>\n",
       "      <td>ACTIVE</td>\n",
       "      <td>COM</td>\n",
       "      <td>5</td>\n",
       "      <td>20.615385</td>\n",
       "    </tr>\n",
       "    <tr>\n",
       "      <th>5</th>\n",
       "      <td>130854587</td>\n",
       "      <td>4.213540e+13</td>\n",
       "      <td>4213538451</td>\n",
       "      <td>5/1/20</td>\n",
       "      <td>9.0</td>\n",
       "      <td>31.0</td>\n",
       "      <td>546</td>\n",
       "      <td>1</td>\n",
       "      <td>NaN</td>\n",
       "      <td>0.29</td>\n",
       "      <td>...</td>\n",
       "      <td>17.61</td>\n",
       "      <td>CLEAR FORK</td>\n",
       "      <td>SCIMITAR</td>\n",
       "      <td>1</td>\n",
       "      <td>OCCIDENTAL PETROLEUM</td>\n",
       "      <td>OIL</td>\n",
       "      <td>ACTIVE</td>\n",
       "      <td>COM</td>\n",
       "      <td>6</td>\n",
       "      <td>3.444444</td>\n",
       "    </tr>\n",
       "    <tr>\n",
       "      <th>6</th>\n",
       "      <td>130854587</td>\n",
       "      <td>4.213540e+13</td>\n",
       "      <td>4213538451</td>\n",
       "      <td>6/1/20</td>\n",
       "      <td>6.0</td>\n",
       "      <td>0.0</td>\n",
       "      <td>395</td>\n",
       "      <td>1</td>\n",
       "      <td>NaN</td>\n",
       "      <td>0.20</td>\n",
       "      <td>...</td>\n",
       "      <td>13.17</td>\n",
       "      <td>CLEAR FORK</td>\n",
       "      <td>SCIMITAR</td>\n",
       "      <td>1</td>\n",
       "      <td>OCCIDENTAL PETROLEUM</td>\n",
       "      <td>OIL</td>\n",
       "      <td>ACTIVE</td>\n",
       "      <td>COM</td>\n",
       "      <td>7</td>\n",
       "      <td>0.000000</td>\n",
       "    </tr>\n",
       "    <tr>\n",
       "      <th>7</th>\n",
       "      <td>130854587</td>\n",
       "      <td>4.213540e+13</td>\n",
       "      <td>4213538451</td>\n",
       "      <td>7/1/20</td>\n",
       "      <td>6.0</td>\n",
       "      <td>244.0</td>\n",
       "      <td>435</td>\n",
       "      <td>1</td>\n",
       "      <td>NaN</td>\n",
       "      <td>0.19</td>\n",
       "      <td>...</td>\n",
       "      <td>14.03</td>\n",
       "      <td>CLEAR FORK</td>\n",
       "      <td>SCIMITAR</td>\n",
       "      <td>1</td>\n",
       "      <td>OCCIDENTAL PETROLEUM</td>\n",
       "      <td>OIL</td>\n",
       "      <td>ACTIVE</td>\n",
       "      <td>COM</td>\n",
       "      <td>8</td>\n",
       "      <td>40.666667</td>\n",
       "    </tr>\n",
       "    <tr>\n",
       "      <th>8</th>\n",
       "      <td>130854587</td>\n",
       "      <td>4.213540e+13</td>\n",
       "      <td>4213538451</td>\n",
       "      <td>8/1/20</td>\n",
       "      <td>12.0</td>\n",
       "      <td>262.0</td>\n",
       "      <td>832</td>\n",
       "      <td>1</td>\n",
       "      <td>NaN</td>\n",
       "      <td>0.39</td>\n",
       "      <td>...</td>\n",
       "      <td>26.84</td>\n",
       "      <td>CLEAR FORK</td>\n",
       "      <td>SCIMITAR</td>\n",
       "      <td>1</td>\n",
       "      <td>OCCIDENTAL PETROLEUM</td>\n",
       "      <td>OIL</td>\n",
       "      <td>ACTIVE</td>\n",
       "      <td>COM</td>\n",
       "      <td>9</td>\n",
       "      <td>21.833333</td>\n",
       "    </tr>\n",
       "    <tr>\n",
       "      <th>9</th>\n",
       "      <td>130854587</td>\n",
       "      <td>4.213540e+13</td>\n",
       "      <td>4213538451</td>\n",
       "      <td>9/1/20</td>\n",
       "      <td>10.0</td>\n",
       "      <td>188.0</td>\n",
       "      <td>698</td>\n",
       "      <td>1</td>\n",
       "      <td>NaN</td>\n",
       "      <td>0.33</td>\n",
       "      <td>...</td>\n",
       "      <td>23.27</td>\n",
       "      <td>CLEAR FORK</td>\n",
       "      <td>SCIMITAR</td>\n",
       "      <td>1</td>\n",
       "      <td>OCCIDENTAL PETROLEUM</td>\n",
       "      <td>OIL</td>\n",
       "      <td>ACTIVE</td>\n",
       "      <td>COM</td>\n",
       "      <td>10</td>\n",
       "      <td>18.800000</td>\n",
       "    </tr>\n",
       "  </tbody>\n",
       "</table>\n",
       "<p>10 rows × 21 columns</p>\n",
       "</div>"
      ],
      "text/plain": [
       "   Entity ID       API/UWI API/UWI List Monthly Production Date  Monthly Oil  \\\n",
       "0  130854587  4.213540e+13   4213538451                 12/1/19          1.0   \n",
       "1  130854587  4.213540e+13   4213538451                  1/1/20         22.0   \n",
       "2  130854587  4.213540e+13   4213538451                  2/1/20         15.0   \n",
       "3  130854587  4.213540e+13   4213538451                  3/1/20         14.0   \n",
       "4  130854587  4.213540e+13   4213538451                  4/1/20         13.0   \n",
       "5  130854587  4.213540e+13   4213538451                  5/1/20          9.0   \n",
       "6  130854587  4.213540e+13   4213538451                  6/1/20          6.0   \n",
       "7  130854587  4.213540e+13   4213538451                  7/1/20          6.0   \n",
       "8  130854587  4.213540e+13   4213538451                  8/1/20         12.0   \n",
       "9  130854587  4.213540e+13   4213538451                  9/1/20         10.0   \n",
       "\n",
       "   Monthly Gas  Monthly Water  Well Count  Days  Daily Avg Oil  ...  \\\n",
       "0        139.0              7           1   NaN           0.03  ...   \n",
       "1        270.0           1205           1   NaN           0.71  ...   \n",
       "2        130.0            846           1   NaN           0.52  ...   \n",
       "3        308.0            788           1   NaN           0.45  ...   \n",
       "4        268.0            773           1   NaN           0.43  ...   \n",
       "5         31.0            546           1   NaN           0.29  ...   \n",
       "6          0.0            395           1   NaN           0.20  ...   \n",
       "7        244.0            435           1   NaN           0.19  ...   \n",
       "8        262.0            832           1   NaN           0.39  ...   \n",
       "9        188.0            698           1   NaN           0.33  ...   \n",
       "\n",
       "   Daily Avg Water   Reservoir Well/Lease Name Well Number  \\\n",
       "0             0.23  CLEAR FORK        SCIMITAR           1   \n",
       "1            38.87  CLEAR FORK        SCIMITAR           1   \n",
       "2            29.17  CLEAR FORK        SCIMITAR           1   \n",
       "3            25.42  CLEAR FORK        SCIMITAR           1   \n",
       "4            25.77  CLEAR FORK        SCIMITAR           1   \n",
       "5            17.61  CLEAR FORK        SCIMITAR           1   \n",
       "6            13.17  CLEAR FORK        SCIMITAR           1   \n",
       "7            14.03  CLEAR FORK        SCIMITAR           1   \n",
       "8            26.84  CLEAR FORK        SCIMITAR           1   \n",
       "9            23.27  CLEAR FORK        SCIMITAR           1   \n",
       "\n",
       "  Operator Company Name Production Type Production Status Entity Type  \\\n",
       "0  OCCIDENTAL PETROLEUM             OIL            ACTIVE         COM   \n",
       "1  OCCIDENTAL PETROLEUM             OIL            ACTIVE         COM   \n",
       "2  OCCIDENTAL PETROLEUM             OIL            ACTIVE         COM   \n",
       "3  OCCIDENTAL PETROLEUM             OIL            ACTIVE         COM   \n",
       "4  OCCIDENTAL PETROLEUM             OIL            ACTIVE         COM   \n",
       "5  OCCIDENTAL PETROLEUM             OIL            ACTIVE         COM   \n",
       "6  OCCIDENTAL PETROLEUM             OIL            ACTIVE         COM   \n",
       "7  OCCIDENTAL PETROLEUM             OIL            ACTIVE         COM   \n",
       "8  OCCIDENTAL PETROLEUM             OIL            ACTIVE         COM   \n",
       "9  OCCIDENTAL PETROLEUM             OIL            ACTIVE         COM   \n",
       "\n",
       "  Producing Month Number         GOR  \n",
       "0                      1  139.000000  \n",
       "1                      2   12.272727  \n",
       "2                      3    8.666667  \n",
       "3                      4   22.000000  \n",
       "4                      5   20.615385  \n",
       "5                      6    3.444444  \n",
       "6                      7    0.000000  \n",
       "7                      8   40.666667  \n",
       "8                      9   21.833333  \n",
       "9                     10   18.800000  \n",
       "\n",
       "[10 rows x 21 columns]"
      ]
     },
     "execution_count": 308,
     "metadata": {},
     "output_type": "execute_result"
    }
   ],
   "source": [
    "# We can create a new column Gas to Oil Ratio (i.e GOR) which is important parameter in oil production\n",
    "\n",
    "df['GOR'] = df['Monthly Gas'] / df['Monthly Oil']\n",
    "df.head(10)"
   ]
  },
  {
   "cell_type": "code",
   "execution_count": 309,
   "metadata": {},
   "outputs": [
    {
     "data": {
      "text/plain": [
       "Entity ID                    int64\n",
       "API/UWI                    float64\n",
       "API/UWI List                object\n",
       "Monthly Production Date     object\n",
       "Monthly Oil                float64\n",
       "Monthly Gas                float64\n",
       "Monthly Water                int64\n",
       "Well Count                   int64\n",
       "Days                       float64\n",
       "Daily Avg Oil              float64\n",
       "Daily Avg Gas              float64\n",
       "Daily Avg Water            float64\n",
       "Reservoir                   object\n",
       "Well/Lease Name             object\n",
       "Well Number                 object\n",
       "Operator Company Name       object\n",
       "Production Type             object\n",
       "Production Status           object\n",
       "Entity Type                 object\n",
       "Producing Month Number       int64\n",
       "GOR                        float64\n",
       "dtype: object"
      ]
     },
     "execution_count": 309,
     "metadata": {},
     "output_type": "execute_result"
    }
   ],
   "source": [
    "# Information about Data type \n",
    "\n",
    "df.dtypes"
   ]
  },
  {
   "cell_type": "code",
   "execution_count": 310,
   "metadata": {},
   "outputs": [
    {
     "data": {
      "text/html": [
       "<div>\n",
       "<style scoped>\n",
       "    .dataframe tbody tr th:only-of-type {\n",
       "        vertical-align: middle;\n",
       "    }\n",
       "\n",
       "    .dataframe tbody tr th {\n",
       "        vertical-align: top;\n",
       "    }\n",
       "\n",
       "    .dataframe thead th {\n",
       "        text-align: right;\n",
       "    }\n",
       "</style>\n",
       "<table border=\"1\" class=\"dataframe\">\n",
       "  <thead>\n",
       "    <tr style=\"text-align: right;\">\n",
       "      <th></th>\n",
       "      <th>Entity ID</th>\n",
       "      <th>API/UWI</th>\n",
       "      <th>Monthly Oil</th>\n",
       "      <th>Monthly Gas</th>\n",
       "      <th>Monthly Water</th>\n",
       "      <th>Well Count</th>\n",
       "      <th>Days</th>\n",
       "      <th>Daily Avg Oil</th>\n",
       "      <th>Daily Avg Gas</th>\n",
       "      <th>Daily Avg Water</th>\n",
       "      <th>Producing Month Number</th>\n",
       "      <th>GOR</th>\n",
       "    </tr>\n",
       "  </thead>\n",
       "  <tbody>\n",
       "    <tr>\n",
       "      <th>count</th>\n",
       "      <td>3.858540e+05</td>\n",
       "      <td>3.858540e+05</td>\n",
       "      <td>385854.000000</td>\n",
       "      <td>385676.000000</td>\n",
       "      <td>3.858540e+05</td>\n",
       "      <td>385854.000000</td>\n",
       "      <td>12900.0</td>\n",
       "      <td>385854.000000</td>\n",
       "      <td>385676.000000</td>\n",
       "      <td>385854.000000</td>\n",
       "      <td>385854.000000</td>\n",
       "      <td>3.855990e+05</td>\n",
       "    </tr>\n",
       "    <tr>\n",
       "      <th>mean</th>\n",
       "      <td>1.264904e+08</td>\n",
       "      <td>4.213525e+13</td>\n",
       "      <td>537.069617</td>\n",
       "      <td>503.662564</td>\n",
       "      <td>7.410641e+03</td>\n",
       "      <td>1.020899</td>\n",
       "      <td>0.0</td>\n",
       "      <td>17.644106</td>\n",
       "      <td>16.543608</td>\n",
       "      <td>243.457731</td>\n",
       "      <td>257.579139</td>\n",
       "      <td>inf</td>\n",
       "    </tr>\n",
       "    <tr>\n",
       "      <th>std</th>\n",
       "      <td>1.194819e+07</td>\n",
       "      <td>1.701271e+08</td>\n",
       "      <td>1103.490253</td>\n",
       "      <td>2571.976392</td>\n",
       "      <td>1.861663e+04</td>\n",
       "      <td>0.272107</td>\n",
       "      <td>0.0</td>\n",
       "      <td>36.237795</td>\n",
       "      <td>84.439632</td>\n",
       "      <td>611.548984</td>\n",
       "      <td>194.597442</td>\n",
       "      <td>NaN</td>\n",
       "    </tr>\n",
       "    <tr>\n",
       "      <th>min</th>\n",
       "      <td>4.748530e+05</td>\n",
       "      <td>4.213500e+13</td>\n",
       "      <td>0.000000</td>\n",
       "      <td>0.000000</td>\n",
       "      <td>0.000000e+00</td>\n",
       "      <td>1.000000</td>\n",
       "      <td>0.0</td>\n",
       "      <td>0.000000</td>\n",
       "      <td>0.000000</td>\n",
       "      <td>0.000000</td>\n",
       "      <td>1.000000</td>\n",
       "      <td>0.000000e+00</td>\n",
       "    </tr>\n",
       "    <tr>\n",
       "      <th>25%</th>\n",
       "      <td>1.273339e+08</td>\n",
       "      <td>4.213510e+13</td>\n",
       "      <td>91.000000</td>\n",
       "      <td>15.000000</td>\n",
       "      <td>6.240000e+02</td>\n",
       "      <td>1.000000</td>\n",
       "      <td>0.0</td>\n",
       "      <td>3.000000</td>\n",
       "      <td>0.480000</td>\n",
       "      <td>20.550000</td>\n",
       "      <td>95.000000</td>\n",
       "      <td>6.544235e-02</td>\n",
       "    </tr>\n",
       "    <tr>\n",
       "      <th>50%</th>\n",
       "      <td>1.275302e+08</td>\n",
       "      <td>4.213530e+13</td>\n",
       "      <td>230.000000</td>\n",
       "      <td>67.000000</td>\n",
       "      <td>2.986000e+03</td>\n",
       "      <td>1.000000</td>\n",
       "      <td>0.0</td>\n",
       "      <td>7.570000</td>\n",
       "      <td>2.230000</td>\n",
       "      <td>98.100000</td>\n",
       "      <td>214.000000</td>\n",
       "      <td>2.777778e-01</td>\n",
       "    </tr>\n",
       "    <tr>\n",
       "      <th>75%</th>\n",
       "      <td>1.277265e+08</td>\n",
       "      <td>4.213540e+13</td>\n",
       "      <td>561.000000</td>\n",
       "      <td>280.000000</td>\n",
       "      <td>7.428000e+03</td>\n",
       "      <td>1.000000</td>\n",
       "      <td>0.0</td>\n",
       "      <td>18.420000</td>\n",
       "      <td>9.230000</td>\n",
       "      <td>243.740000</td>\n",
       "      <td>389.000000</td>\n",
       "      <td>1.059701e+00</td>\n",
       "    </tr>\n",
       "    <tr>\n",
       "      <th>max</th>\n",
       "      <td>1.310139e+08</td>\n",
       "      <td>4.213590e+13</td>\n",
       "      <td>35382.000000</td>\n",
       "      <td>190132.000000</td>\n",
       "      <td>1.411641e+06</td>\n",
       "      <td>9.000000</td>\n",
       "      <td>0.0</td>\n",
       "      <td>1141.350000</td>\n",
       "      <td>6133.290000</td>\n",
       "      <td>45536.810000</td>\n",
       "      <td>997.000000</td>\n",
       "      <td>inf</td>\n",
       "    </tr>\n",
       "  </tbody>\n",
       "</table>\n",
       "</div>"
      ],
      "text/plain": [
       "          Entity ID       API/UWI    Monthly Oil    Monthly Gas  \\\n",
       "count  3.858540e+05  3.858540e+05  385854.000000  385676.000000   \n",
       "mean   1.264904e+08  4.213525e+13     537.069617     503.662564   \n",
       "std    1.194819e+07  1.701271e+08    1103.490253    2571.976392   \n",
       "min    4.748530e+05  4.213500e+13       0.000000       0.000000   \n",
       "25%    1.273339e+08  4.213510e+13      91.000000      15.000000   \n",
       "50%    1.275302e+08  4.213530e+13     230.000000      67.000000   \n",
       "75%    1.277265e+08  4.213540e+13     561.000000     280.000000   \n",
       "max    1.310139e+08  4.213590e+13   35382.000000  190132.000000   \n",
       "\n",
       "       Monthly Water     Well Count     Days  Daily Avg Oil  Daily Avg Gas  \\\n",
       "count   3.858540e+05  385854.000000  12900.0  385854.000000  385676.000000   \n",
       "mean    7.410641e+03       1.020899      0.0      17.644106      16.543608   \n",
       "std     1.861663e+04       0.272107      0.0      36.237795      84.439632   \n",
       "min     0.000000e+00       1.000000      0.0       0.000000       0.000000   \n",
       "25%     6.240000e+02       1.000000      0.0       3.000000       0.480000   \n",
       "50%     2.986000e+03       1.000000      0.0       7.570000       2.230000   \n",
       "75%     7.428000e+03       1.000000      0.0      18.420000       9.230000   \n",
       "max     1.411641e+06       9.000000      0.0    1141.350000    6133.290000   \n",
       "\n",
       "       Daily Avg Water  Producing Month Number           GOR  \n",
       "count    385854.000000           385854.000000  3.855990e+05  \n",
       "mean        243.457731              257.579139           inf  \n",
       "std         611.548984              194.597442           NaN  \n",
       "min           0.000000                1.000000  0.000000e+00  \n",
       "25%          20.550000               95.000000  6.544235e-02  \n",
       "50%          98.100000              214.000000  2.777778e-01  \n",
       "75%         243.740000              389.000000  1.059701e+00  \n",
       "max       45536.810000              997.000000           inf  "
      ]
     },
     "execution_count": 310,
     "metadata": {},
     "output_type": "execute_result"
    }
   ],
   "source": [
    "# summary statistics for numerical columns\n",
    "\n",
    "df.describe()"
   ]
  },
  {
   "cell_type": "code",
   "execution_count": 311,
   "metadata": {},
   "outputs": [
    {
     "name": "stdout",
     "output_type": "stream",
     "text": [
      "\n",
      " Number of missing values:\n"
     ]
    },
    {
     "data": {
      "text/plain": [
       "Entity ID                       0\n",
       "API/UWI                         0\n",
       "API/UWI List                    0\n",
       "Monthly Production Date         0\n",
       "Monthly Oil                     0\n",
       "Monthly Gas                   178\n",
       "Monthly Water                   0\n",
       "Well Count                      0\n",
       "Days                       372954\n",
       "Daily Avg Oil                   0\n",
       "Daily Avg Gas                 178\n",
       "Daily Avg Water                 0\n",
       "Reservoir                    1342\n",
       "Well/Lease Name                 0\n",
       "Well Number                  3433\n",
       "Operator Company Name           0\n",
       "Production Type                 0\n",
       "Production Status               0\n",
       "Entity Type                     0\n",
       "Producing Month Number          0\n",
       "GOR                           255\n",
       "dtype: int64"
      ]
     },
     "execution_count": 311,
     "metadata": {},
     "output_type": "execute_result"
    }
   ],
   "source": [
    "# check for any missing values\n",
    "\n",
    "print(\"\\n Number of missing values:\")\n",
    "df.isna().sum()"
   ]
  },
  {
   "attachments": {},
   "cell_type": "markdown",
   "metadata": {},
   "source": [
    "We observe that there are three common features to distinguish between wells, namely 'Entity ID', 'API/UWi', and 'API/UWI List,' all having the same significance in identifying a particular well. Therefore, any one of these features can be considered to uniquely identify a well. In this case, we are identifying a well with its unique 'Entity ID' and will drop the 'API/UWi' and 'API/UWI List' features.\n",
    "\n",
    "Furthermore, the 'Days' and 'Well Number' columns have only 27,004 values out of a total of 773,296 rows, making imputation methods unsuitable for handling missing value issues, as they may introduce bias into the dataset. Therefore, to achieve better efficiency, we recommend dropping the 'Days' and 'Well Number' columns."
   ]
  },
  {
   "cell_type": "code",
   "execution_count": 312,
   "metadata": {},
   "outputs": [
    {
     "data": {
      "text/plain": [
       "Entity ID                     0\n",
       "Monthly Production Date       0\n",
       "Monthly Oil                   0\n",
       "Monthly Gas                 178\n",
       "Monthly Water                 0\n",
       "Well Count                    0\n",
       "Daily Avg Oil                 0\n",
       "Daily Avg Gas               178\n",
       "Daily Avg Water               0\n",
       "Reservoir                  1342\n",
       "Well/Lease Name               0\n",
       "Operator Company Name         0\n",
       "Production Type               0\n",
       "Production Status             0\n",
       "Entity Type                   0\n",
       "Producing Month Number        0\n",
       "GOR                         255\n",
       "dtype: int64"
      ]
     },
     "execution_count": 312,
     "metadata": {},
     "output_type": "execute_result"
    }
   ],
   "source": [
    "# drop the 'API/UWI','API/UWI List','Days','Well Number' columns\n",
    "\n",
    "df = df.drop(columns=['API/UWI','API/UWI List','Days','Well Number'])\n",
    "df.isna().sum()"
   ]
  },
  {
   "attachments": {},
   "cell_type": "markdown",
   "metadata": {},
   "source": [
    "Upon observing the data, we note a significant difference between the mean and median values for monthly oil production, where the mean is 536.23 and the median is 229. Therefore, replacing the missing values with the median of non-missing values is the optimal imputation method. This method is more robust to outliers than mean imputation and is suitable for skewed or outlier-containing data. Thus, we will impute the median values for 'Monthly Oil', 'Monthly Gas', 'Daily Avg Oil', 'Daily Avg Gas', and 'GOR'. Additionally, while computing the 'GOR' column, we encountered division errors resulting in 'inf' values, which can also be imputed using the median imputation method.\n",
    "\n",
    "Finally, we will use mode imputation to impute the missing values in the categorical feature 'Reservoir' column."
   ]
  },
  {
   "cell_type": "code",
   "execution_count": 313,
   "metadata": {},
   "outputs": [
    {
     "data": {
      "text/plain": [
       "Entity ID                  0\n",
       "Monthly Production Date    0\n",
       "Monthly Oil                0\n",
       "Monthly Gas                0\n",
       "Monthly Water              0\n",
       "Well Count                 0\n",
       "Daily Avg Oil              0\n",
       "Daily Avg Gas              0\n",
       "Daily Avg Water            0\n",
       "Reservoir                  0\n",
       "Well/Lease Name            0\n",
       "Operator Company Name      0\n",
       "Production Type            0\n",
       "Production Status          0\n",
       "Entity Type                0\n",
       "Producing Month Number     0\n",
       "GOR                        0\n",
       "dtype: int64"
      ]
     },
     "execution_count": 313,
     "metadata": {},
     "output_type": "execute_result"
    }
   ],
   "source": [
    "# Imputation for missing values \n",
    "\n",
    "# A) impute missing values with median for numerical columns i.e. 'Monthly Oil', 'Monthly Gas', 'Daily Avg Oil', 'Daily Avg Gas'\n",
    "num_cols = ['Monthly Oil', 'Monthly Gas', 'Daily Avg Oil', 'Daily Avg Gas','GOR']\n",
    "for col in num_cols:\n",
    "    median_val = df[col].median()\n",
    "    df[col] = df[col].fillna(median_val)\n",
    "\n",
    "# replace division error values in the GOR column with the median of the column\n",
    "median_GOR = df['GOR'].replace([np.inf, -np.inf], np.nan).median()\n",
    "df['GOR'] = df['GOR'].replace([np.inf, -np.inf], median_GOR)\n",
    "\n",
    "# B) Now lets impute object feature 'Reservoir' with mode\n",
    "df['Reservoir'].fillna(df['Reservoir'].mode()[0], inplace=True)\n",
    "\n",
    "df.isna().sum()"
   ]
  },
  {
   "cell_type": "code",
   "execution_count": 314,
   "metadata": {},
   "outputs": [
    {
     "name": "stdout",
     "output_type": "stream",
     "text": [
      "Unique Operator Company Name: ['OCCIDENTAL PETROLEUM']\n",
      "Unique Production Type: ['OIL']\n",
      "Unique Production Statuses: ['ACTIVE']\n",
      "Unique Entity Types: ['COM' 'LEASE']\n"
     ]
    }
   ],
   "source": [
    "# Analyzing other categorical feature\n",
    "unique_operators = df['Operator Company Name'].unique()\n",
    "unique_production_types = df['Production Type'].unique()\n",
    "unique_entity_types = df['Entity Type'].unique()\n",
    "unique_production_statuses = df['Production Status'].unique()\n",
    "\n",
    "print(\"Unique Operator Company Name:\", unique_operators)\n",
    "print(\"Unique Production Type:\", unique_production_types)\n",
    "print(\"Unique Production Statuses:\", unique_production_statuses)\n",
    "print(\"Unique Entity Types:\", unique_entity_types)\n"
   ]
  },
  {
   "attachments": {},
   "cell_type": "markdown",
   "metadata": {},
   "source": [
    "As observed above, the categorical features 'Operator Company Name', 'Production Type', and 'Production Status' have only one value, which does not offer much information. Therefore, it is recommended to drop the features 'Operator Company Name' and 'Production Status' from the dataset."
   ]
  },
  {
   "cell_type": "code",
   "execution_count": 315,
   "metadata": {},
   "outputs": [
    {
     "data": {
      "text/plain": [
       "Entity ID                  0\n",
       "Monthly Production Date    0\n",
       "Monthly Oil                0\n",
       "Monthly Gas                0\n",
       "Monthly Water              0\n",
       "Well Count                 0\n",
       "Daily Avg Oil              0\n",
       "Daily Avg Gas              0\n",
       "Daily Avg Water            0\n",
       "Reservoir                  0\n",
       "Well/Lease Name            0\n",
       "Entity Type                0\n",
       "Producing Month Number     0\n",
       "GOR                        0\n",
       "dtype: int64"
      ]
     },
     "execution_count": 315,
     "metadata": {},
     "output_type": "execute_result"
    }
   ],
   "source": [
    "# drop the 'Operator Company Name','Production Type','Production Status' columns\n",
    "\n",
    "df = df.drop(columns=['Operator Company Name','Production Type','Production Status'])\n",
    "df.isna().sum()"
   ]
  },
  {
   "cell_type": "code",
   "execution_count": 316,
   "metadata": {},
   "outputs": [],
   "source": [
    "# # Export the Cleaned data to a CSV file for Visualising with PowerBI\n",
    "\n",
    "# p.to_csv('cleaned_dataset.csv', index=False)"
   ]
  },
  {
   "cell_type": "code",
   "execution_count": 317,
   "metadata": {},
   "outputs": [
    {
     "data": {
      "image/png": "[encoded data removed]",
      "text/plain": [
       "<Figure size 864x720 with 8 Axes>"
      ]
     },
     "metadata": {
      "needs_background": "light"
     },
     "output_type": "display_data"
    }
   ],
   "source": [
    "#let’s visualize the distribution of each parameter\n",
    "\n",
    "f, axes = plt.subplots(4, 2, figsize=(12, 10))\n",
    "sns.distplot(df['Monthly Oil'] , color=\"red\", ax=axes[0, 0])\n",
    "sns.distplot(df['Daily Avg Oil'] , color=\"brown\", ax=axes[0, 1])\n",
    "sns.distplot(df['Monthly Gas'] , color=\"olive\", ax=axes[1, 0])\n",
    "sns.distplot(df['Daily Avg Gas'] , color=\"green\", ax=axes[1, 1])\n",
    "sns.distplot(df['Monthly Water'] , color=\"blue\", ax=axes[2, 0])\n",
    "sns.distplot(df['Daily Avg Water'] , color=\"cyan\", ax=axes[2, 1])\n",
    "sns.distplot(df['Well Count'] , color=\"orange\", ax=axes[3, 0])\n",
    "sns.distplot(df['GOR'] , color=\"yellow\", ax=axes[3, 1])\n",
    "\n",
    "plt.tight_layout()"
   ]
  },
  {
   "cell_type": "code",
   "execution_count": 318,
   "metadata": {},
   "outputs": [],
   "source": [
    "# # Checking any correlations between each other using a pairplot graph   (Note: Compuation time = approx 10 min)\n",
    "\n",
    "# sns.pairplot(df)"
   ]
  },
  {
   "cell_type": "code",
   "execution_count": 319,
   "metadata": {},
   "outputs": [
    {
     "data": {
      "image/png": "[encoded data removed]",
      "text/plain": [
       "<Figure size 864x720 with 8 Axes>"
      ]
     },
     "metadata": {
      "needs_background": "light"
     },
     "output_type": "display_data"
    }
   ],
   "source": [
    "#let’s visualize the relations for each parameter\n",
    "\n",
    "f, axes = plt.subplots(4, 2, figsize=(12, 10))\n",
    "sns.scatterplot(df['Monthly Oil'] , color=\"red\", ax=axes[0, 0])\n",
    "sns.scatterplot(df['Daily Avg Oil'] , color=\"brown\", ax=axes[0, 1])\n",
    "sns.scatterplot(df['Monthly Gas'] , color=\"olive\", ax=axes[1, 0])\n",
    "sns.scatterplot(df['Daily Avg Gas'] , color=\"green\", ax=axes[1, 1])\n",
    "sns.scatterplot(df['Monthly Water'] , color=\"blue\", ax=axes[2, 0])\n",
    "sns.scatterplot(df['Daily Avg Water'] , color=\"cyan\", ax=axes[2, 1])\n",
    "sns.scatterplot(df['Well Count'] , color=\"orange\", ax=axes[3, 0])\n",
    "sns.scatterplot(df['GOR'] , color=\"yellow\", ax=axes[3, 1])\n",
    "\n",
    "plt.tight_layout()"
   ]
  },
  {
   "cell_type": "code",
   "execution_count": 320,
   "metadata": {},
   "outputs": [
    {
     "data": {
      "text/plain": [
       "<AxesSubplot:>"
      ]
     },
     "execution_count": 320,
     "metadata": {},
     "output_type": "execute_result"
    },
    {
     "data": {
      "image/png": "[encoded data removed]",
      "text/plain": [
       "<Figure size 720x432 with 2 Axes>"
      ]
     },
     "metadata": {
      "needs_background": "light"
     },
     "output_type": "display_data"
    }
   ],
   "source": [
    "# Lets find any collinearity between input features using seaborn library\n",
    "\n",
    "plt.figure(figsize=(10,6))\n",
    "sns.heatmap(df.corr(),linewidths=2, linecolor='black',cmap='viridis', annot=True)"
   ]
  },
  {
   "cell_type": "code",
   "execution_count": 321,
   "metadata": {},
   "outputs": [
    {
     "data": {
      "image/png": "[encoded data removed]",
      "text/plain": [
       "<Figure size 576x288 with 1 Axes>"
      ]
     },
     "metadata": {
      "needs_background": "light"
     },
     "output_type": "display_data"
    }
   ],
   "source": [
    "# calculate the correlation coefficients with the target variable\n",
    "corr_matrix = df.corr(method='pearson')['Monthly Oil'].sort_values(ascending=False)\n",
    "\n",
    "# Create a bar plot of the correlation matrix\n",
    "fig, ax = plt.subplots(figsize=(8,4))\n",
    "colors = np.where(corr_matrix.values > 0, 'g', 'r')\n",
    "ax.bar(corr_matrix.index, corr_matrix.values, color=colors)\n",
    "\n",
    "# Set the title and axis labels\n",
    "ax.set_title('Absolute Correlation of Monthly Oil Production with Other Variables')\n",
    "ax.set_xlabel('Variable')\n",
    "ax.set_ylabel('Correlation')\n",
    "\n",
    "# Rotate the x-axis labels for better visibility\n",
    "plt.xticks(rotation=78)\n",
    "\n",
    "# Annotate the correlation values on the bars\n",
    "for i, v in enumerate(corr_matrix.values):\n",
    "    ax.text(i, v + 0.01, str(round(v, 2)), ha='center')\n",
    "\n",
    "# Show the plot\n",
    "plt.show()"
   ]
  },
  {
   "attachments": {},
   "cell_type": "markdown",
   "metadata": {},
   "source": [
    "It is evident that 'Monthly Oil' production is strongly correlated with 'Daily Avg Oil'. Similarly, 'Monthly Water' and 'Monthly Gas' exhibit a high correlation with 'Daily Water' and 'Daily Gas'. As a result, to reduce the complexity of the model and avoid multicollinearity issues, it is generally recommended to remove one of the correlated features. \n",
    "\n",
    "Thus, while implementing the model, it is advisable to ignore these highly correlated features, namely 'Daily Avg Oil', 'Daily Water', and 'Daily Gas' to avoid multicollinearity issues."
   ]
  },
  {
   "attachments": {},
   "cell_type": "markdown",
   "metadata": {},
   "source": [
    "## Part 2.  Implementing Machine Learning Models"
   ]
  },
  {
   "attachments": {},
   "cell_type": "markdown",
   "metadata": {},
   "source": [
    "### a. Data Transformation & Splitting it into Training, Validation & Test Dataset"
   ]
  },
  {
   "cell_type": "code",
   "execution_count": 322,
   "metadata": {},
   "outputs": [],
   "source": [
    "# Load the dataset and create the features and target variable\n",
    "X = df[['Entity ID','Monthly Gas','Monthly Water','Well Count','Producing Month Number','GOR']]\n",
    "y = df['Monthly Oil']\n",
    "\n",
    "from sklearn.preprocessing import StandardScaler\n",
    "\n",
    "# create and fit into StandardScaler for X\n",
    "scaler_X = StandardScaler().fit(X)\n",
    "\n",
    "# transform features in X \n",
    "X_scaled = scaler_X.transform(X)\n",
    "\n",
    "# create and fit into StandardScaler for y\n",
    "scaler_y = StandardScaler().fit(y.to_numpy().reshape(-1, 1))\n",
    "\n",
    "# transform target features y\n",
    "y_scaled = scaler_y.transform(y.to_numpy().reshape(-1, 1))\n",
    "\n",
    "# Split the data into training and testing sets\n",
    "X_train, X_test, y_train, y_test = train_test_split(X_scaled, y_scaled, test_size=0.2, random_state=42)\n",
    "\n",
    "# Split the training set into training and validation sets\n",
    "X_train, X_val, y_train, y_val = train_test_split(X_train, y_train, test_size=0.25, random_state=42)"
   ]
  },
  {
   "attachments": {},
   "cell_type": "markdown",
   "metadata": {},
   "source": [
    "### b.  Multiple Model Implementation"
   ]
  },
  {
   "cell_type": "code",
   "execution_count": 323,
   "metadata": {},
   "outputs": [],
   "source": [
    "# Implement & fit the models using GridsearchCV & Kfold cross validation\n",
    "\n",
    "# Create K-fold cross validation for GridSearch calculations\n",
    "cv = KFold(n_splits=5)\n",
    "\n",
    "# 1. Linear Regression\n",
    "lr_param_grid = {'fit_intercept': [True, False]}\n",
    "lr = GridSearchCV(LinearRegression(),lr_param_grid,cv=cv).fit(X_train, y_train)"
   ]
  },
  {
   "cell_type": "code",
   "execution_count": 324,
   "metadata": {},
   "outputs": [],
   "source": [
    "# 2. Ridge Regression\n",
    "ridge_param_grid = {'alpha': [0.01, 0.1, 1.0, 10, 100]}\n",
    "ridge = GridSearchCV(Ridge(random_state=42), ridge_param_grid, cv=cv).fit(X_train, y_train)"
   ]
  },
  {
   "cell_type": "code",
   "execution_count": 325,
   "metadata": {},
   "outputs": [],
   "source": [
    "# 3. Lasso Regression\n",
    "lasso_param_grid = {'alpha': [0.01, 0.1, 1.0, 10, 100]}\n",
    "lasso = GridSearchCV(Lasso(random_state=42), lasso_param_grid, cv=cv).fit(X_train, y_train)"
   ]
  },
  {
   "cell_type": "code",
   "execution_count": 326,
   "metadata": {},
   "outputs": [],
   "source": [
    "# 4. KNN                                     (Note: Compuation time = approx 5 min)\n",
    "knn_param_grid = {\n",
    "    'n_neighbors': [5, 10, 15],\n",
    "    'weights': ['uniform', 'distance']}\n",
    "knn = GridSearchCV(KNeighborsRegressor(), knn_param_grid, cv=cv).fit(X_train, y_train)"
   ]
  },
  {
   "cell_type": "code",
   "execution_count": 327,
   "metadata": {},
   "outputs": [],
   "source": [
    "# 5. Decision Tree\n",
    "tree_param_grid = {\n",
    "    'max_depth': [5, 10, 15],\n",
    "    'min_samples_split': [2, 5, 10]}\n",
    "dtree = GridSearchCV(DecisionTreeRegressor(random_state=42), tree_param_grid, cv=cv).fit(X_train, y_train)"
   ]
  },
  {
   "cell_type": "code",
   "execution_count": 328,
   "metadata": {},
   "outputs": [],
   "source": [
    "# 6. RandomForest                             (Note: Compuation time = approx 9-12 min)\n",
    "rforest_param_grid = {\n",
    "    'n_estimators': [10, 20, 30],\n",
    "    'max_features': ['sqrt', 'log2']}\n",
    "rforest = GridSearchCV(RandomForestRegressor(random_state=42),rforest_param_grid, cv=cv).fit(X_train, y_train)"
   ]
  },
  {
   "cell_type": "code",
   "execution_count": 329,
   "metadata": {},
   "outputs": [],
   "source": [
    "# 7. XGBoost                                  (Note: Compuation time = approx 12-15 min)\n",
    "xgb_param_grid = {\n",
    "    'max_depth': [5, 10, 15],\n",
    "    'learning_rate': [0.1, 0.01, 0.001],\n",
    "    'n_estimators': [10, 20, 30]}\n",
    "xgboost = GridSearchCV(xgb.XGBRegressor(random_state=42),xgb_param_grid, cv=cv).fit(X_train, y_train)"
   ]
  },
  {
   "attachments": {},
   "cell_type": "markdown",
   "metadata": {},
   "source": [
    "### c. Validating all the Model Evaluation on the Validation dataset"
   ]
  },
  {
   "cell_type": "code",
   "execution_count": 330,
   "metadata": {},
   "outputs": [
    {
     "name": "stdout",
     "output_type": "stream",
     "text": [
      "Model Evaluation on Validation data\n",
      "\n",
      "Linear Regression:\n",
      "R2 score: 0.351140433951062\n",
      "RMSE: 0.7807159424804889\n",
      "\n",
      "Ridge:\n",
      "R2 score: 0.3511531345726612\n",
      "RMSE: 0.7807083016697476\n",
      "\n",
      "Lasso:\n",
      "R2 score: 0.35122578792999193\n",
      "RMSE: 0.7806645913043814\n",
      "\n",
      "KNN:\n",
      "R2 score: 0.8359604909096816\n",
      "RMSE: 0.3925472348463523\n",
      "\n",
      "Decision Tree:\n",
      "R2 score: 0.9671759765124346\n",
      "RMSE: 0.17559558788412516\n",
      "\n",
      "Random Forest:\n",
      "R2 score: 0.9806775549479557\n",
      "RMSE: 0.13472516758505268\n",
      "\n",
      "XGBoost:\n",
      "R2 score: 0.9832987749042752\n",
      "RMSE: 0.12525407288363785\n"
     ]
    }
   ],
   "source": [
    " # Evaluate the Best model from the validation set\n",
    "\n",
    "models = [lr, ridge, lasso, knn, dtree, rforest, xgboost]\n",
    "model_names = ['Linear Regression', 'Ridge', 'Lasso', 'KNN', 'Decision Tree','Random Forest', 'XGBoost']\n",
    "best_models = []\n",
    "\n",
    "print('Model Evaluation on Validation data')\n",
    "for i, model in enumerate(models):\n",
    "    y_val_pred = model.predict(X_val)\n",
    "    r2 = r2_score(y_val, y_val_pred)\n",
    "    mse = mean_squared_error(y_val, y_val_pred)\n",
    "    print(f\"\\n{model_names[i]}:\")\n",
    "    print(f\"R2 score: {r2}\")\n",
    "    print(f\"RMSE: {np.sqrt(mse)}\")"
   ]
  },
  {
   "attachments": {},
   "cell_type": "markdown",
   "metadata": {},
   "source": [
    "### d. Final Model Performances comparison on the Testing dataset"
   ]
  },
  {
   "cell_type": "code",
   "execution_count": 331,
   "metadata": {},
   "outputs": [
    {
     "name": "stdout",
     "output_type": "stream",
     "text": [
      "Final Model Evaluation on Test data\n",
      "\n",
      "Linear Regression:\n",
      "R2 score: 0.39093616669223796\n",
      "RMSE: 0.7845137706408382\n",
      "\n",
      "Ridge:\n",
      "R2 score: 0.39094959993939116\n",
      "RMSE: 0.7845051191457821\n",
      "\n",
      "Lasso:\n",
      "R2 score: 0.390921234823965\n",
      "RMSE: 0.7845233871899129\n",
      "\n",
      "KNN:\n",
      "R2 score: 0.814102353295053\n",
      "RMSE: 0.4334171693798657\n",
      "\n",
      "Decision Tree:\n",
      "R2 score: 0.9629797503362306\n",
      "RMSE: 0.1934144143614354\n",
      "\n",
      "Random Forest:\n",
      "R2 score: 0.9812229785090246\n",
      "RMSE: 0.13774711672302026\n",
      "\n",
      "XGBoost:\n",
      "R2 score: 0.9768281109696032\n",
      "RMSE: 0.1530205946891453\n"
     ]
    }
   ],
   "source": [
    " # Evaluate all the models on Testing data set\n",
    "\n",
    "models = [lr, ridge, lasso, knn, dtree, rforest, xgboost]\n",
    "model_names = ['Linear Regression', 'Ridge', 'Lasso', 'KNN', 'Decision Tree', 'Random Forest','XGBoost']\n",
    "best_models = []\n",
    "print('Final Model Evaluation on Test data')\n",
    "for i, model in enumerate(models):\n",
    "    y_test_pred = model.predict(X_test)\n",
    "    r2 = r2_score(y_test, y_test_pred)\n",
    "    mse = mean_squared_error(y_test, y_test_pred)\n",
    "    print(f\"\\n{model_names[i]}:\")\n",
    "    print(f\"R2 score: {r2}\")\n",
    "    print(f\"RMSE: {np.sqrt(mse)}\")"
   ]
  },
  {
   "attachments": {},
   "cell_type": "markdown",
   "metadata": {},
   "source": [
    "### e. Visualizing all the Model Predictions on Testing dataset"
   ]
  },
  {
   "cell_type": "code",
   "execution_count": 332,
   "metadata": {},
   "outputs": [
    {
     "data": {
      "image/png": "[encoded data removed]",
      "text/plain": [
       "<Figure size 432x288 with 1 Axes>"
      ]
     },
     "metadata": {
      "needs_background": "light"
     },
     "output_type": "display_data"
    }
   ],
   "source": [
    "# Lets Inverse transform the scaled target variable to original target variables\n",
    "y_test_org = scaler_y.inverse_transform(y_test.reshape(-1, 1))\n",
    "\n",
    "# A) Linear Regression Model Predictions on Testing data set\n",
    "y_pred_lr= lr.predict(X_test)\n",
    "\n",
    "# Inverse transform the scaled predictions\n",
    "y_pred_lr_org = scaler_y.inverse_transform(y_pred_lr.reshape(-1, 1))\n",
    "\n",
    "# Create a scatter plot of actual vs predicted values\n",
    "plt.scatter(y_test_org, y_pred_lr_org)\n",
    "plt.plot([0, 8000], [0, 8000], '--k')\n",
    "plt.xlabel(\"Actual Monthly Oil (bpm)\")\n",
    "plt.ylabel(\"Predicted Monthly Oil (bpm)\")\n",
    "plt.title(\"Linear Regression Model Predictions\")\n",
    "plt.show()"
   ]
  },
  {
   "cell_type": "code",
   "execution_count": 333,
   "metadata": {},
   "outputs": [
    {
     "data": {
      "image/png": "[encoded data removed]",
      "text/plain": [
       "<Figure size 432x288 with 1 Axes>"
      ]
     },
     "metadata": {
      "needs_background": "light"
     },
     "output_type": "display_data"
    }
   ],
   "source": [
    "# B) Ridge Regression Model Predictions on Testing data set\n",
    "y_pred_ridge = ridge.predict(X_test)\n",
    "\n",
    "# Inverse transform the scaled predictions\n",
    "y_pred_ridge_org = scaler_y.inverse_transform(y_pred_ridge.reshape(-1, 1))\n",
    "\n",
    "# Create a scatter plot of actual vs predicted values\n",
    "plt.scatter(y_test_org, y_pred_ridge_org)\n",
    "plt.plot([0, 8000], [0, 8000], '--k')\n",
    "plt.xlabel(\"Actual Monthly Oil (bpm)\")\n",
    "plt.ylabel(\"Predicted Monthly Oil (bpm)\")\n",
    "plt.title(\"Ridge Regression Model Predictions\")\n",
    "plt.show()"
   ]
  },
  {
   "cell_type": "code",
   "execution_count": 334,
   "metadata": {},
   "outputs": [
    {
     "data": {
      "image/png": "[encoded data removed]",
      "text/plain": [
       "<Figure size 432x288 with 1 Axes>"
      ]
     },
     "metadata": {
      "needs_background": "light"
     },
     "output_type": "display_data"
    }
   ],
   "source": [
    "# C) Lasso Regression Model Predictions on Testing data set\n",
    "y_pred_lasso = lasso.predict(X_test)\n",
    "\n",
    "# Inverse transform the scaled predictions\n",
    "y_pred_lasso_org = scaler_y.inverse_transform(y_pred_lasso.reshape(-1, 1))\n",
    "\n",
    "# Create a scatter plot of actual vs predicted values\n",
    "plt.scatter(y_test_org, y_pred_lasso_org)\n",
    "plt.plot([0, 8000], [0, 8000], '--k')\n",
    "plt.xlabel(\"Actual Monthly Oil (bpm)\")\n",
    "plt.ylabel(\"Predicted Monthly Oil (bpm)\")\n",
    "plt.title(\"Lasso Regression Model Predictions\")\n",
    "plt.show()"
   ]
  },
  {
   "cell_type": "code",
   "execution_count": 335,
   "metadata": {},
   "outputs": [
    {
     "data": {
      "image/png": "[encoded data removed]",
      "text/plain": [
       "<Figure size 432x288 with 1 Axes>"
      ]
     },
     "metadata": {
      "needs_background": "light"
     },
     "output_type": "display_data"
    }
   ],
   "source": [
    "# D) KNN Model Predictions on VTesting data set\n",
    "y_pred_knn = knn.predict(X_test)\n",
    "\n",
    "# Inverse transform the scaled predictions\n",
    "y_pred_knn_org = scaler_y.inverse_transform(y_pred_knn.reshape(-1, 1))\n",
    "\n",
    "# Create a scatter plot of actual vs predicted values\n",
    "plt.scatter(y_test_org, y_pred_knn_org)\n",
    "plt.plot([0, 8000], [0, 8000], '--k')\n",
    "plt.xlabel(\"Actual Monthly Oil (bpm)\")\n",
    "plt.ylabel(\"Predicted Monthly Oil (bpm)\")\n",
    "plt.title(\"KNN Model Predictions\")\n",
    "plt.show()"
   ]
  },
  {
   "cell_type": "code",
   "execution_count": 336,
   "metadata": {},
   "outputs": [
    {
     "data": {
      "image/png": "[encoded data removed]",
      "text/plain": [
       "<Figure size 432x288 with 1 Axes>"
      ]
     },
     "metadata": {
      "needs_background": "light"
     },
     "output_type": "display_data"
    }
   ],
   "source": [
    "# E) Decision Tree Model Predictions on Testing data set\n",
    "y_pred_dtree = dtree.predict(X_test)\n",
    "\n",
    "# Inverse transform the scaled predictions\n",
    "y_pred_dtree_org = scaler_y.inverse_transform(y_pred_dtree.reshape(-1, 1))\n",
    "\n",
    "# Create a scatter plot of actual vs predicted values\n",
    "plt.scatter(y_test_org, y_pred_dtree_org)\n",
    "plt.plot([0, 8000], [0, 8000], '--k')\n",
    "plt.xlabel(\"Actual Monthly Oil (bpm)\")\n",
    "plt.ylabel(\"Predicted Monthly Oil (bpm)\")\n",
    "plt.title(\"Decision Tree Model Predictions\")\n",
    "plt.show()"
   ]
  },
  {
   "cell_type": "code",
   "execution_count": 337,
   "metadata": {},
   "outputs": [
    {
     "data": {
      "image/png": "[encoded data removed]",
      "text/plain": [
       "<Figure size 432x288 with 1 Axes>"
      ]
     },
     "metadata": {
      "needs_background": "light"
     },
     "output_type": "display_data"
    }
   ],
   "source": [
    "# F) Random Forest Model Predictions on Testing data set\n",
    "y_pred_rforest = rforest.predict(X_test)\n",
    "\n",
    "# Inverse transform the scaled predictions\n",
    "y_pred_rforest_org = scaler_y.inverse_transform(y_pred_rforest.reshape(-1, 1))\n",
    "\n",
    "# Create a scatter plot of actual vs predicted values\n",
    "plt.scatter(y_test_org, y_pred_rforest_org)\n",
    "plt.plot([0, 8000], [0, 8000], '--k')\n",
    "plt.xlabel(\"Actual Monthly Oil (bpm)\")\n",
    "plt.ylabel(\"Predicted Monthly Oil (bpm)\")\n",
    "plt.title(\"Random Forest Model Predictions\")\n",
    "plt.show()"
   ]
  },
  {
   "cell_type": "code",
   "execution_count": 338,
   "metadata": {},
   "outputs": [
    {
     "data": {
      "image/png": "[encoded data removed]",
      "text/plain": [
       "<Figure size 432x288 with 1 Axes>"
      ]
     },
     "metadata": {
      "needs_background": "light"
     },
     "output_type": "display_data"
    }
   ],
   "source": [
    "# G) XGBoost Model Predictions on Testing data set\n",
    "y_pred_xgb = xgboost.predict(X_test)\n",
    "\n",
    "# Inverse transform the scaled predictions\n",
    "y_pred_xgb_org = scaler_y.inverse_transform(y_pred_xgb.reshape(-1, 1))\n",
    "\n",
    "# Create a scatter plot of actual vs predicted values\n",
    "plt.scatter(y_test_org, y_pred_xgb_org)\n",
    "plt.plot([0, 8000], [0, 8000], '--k')\n",
    "plt.xlabel(\"Actual Monthly Oil (bpm)\")\n",
    "plt.ylabel(\"Predicted Monthly Oil (bpm)\")\n",
    "plt.title(\"XGBoost Model Predictions\")\n",
    "plt.show()"
   ]
  },
  {
   "attachments": {},
   "cell_type": "markdown",
   "metadata": {},
   "source": [
    "We have seen that Random Forest is been performing best in both the Validation and Testing dataset, based on model evaluation like R2 being highest (i.e. 0.99 to 0.98) & RMSE being the lowest of all other models (i.e. 0.08 to 0.10) . \n",
    "\n",
    "---Summary---\n",
    "\n",
    "a) Validation results for Random Forest:-\n",
    "\n",
    "    R2 score: 0.991\n",
    "\n",
    "    RMSE: 0.095\n",
    "\n",
    "b) Testing results for Random Forest:-\n",
    "\n",
    "    R2 score: 0.989\n",
    "\n",
    "    RMSE: 0.104\n",
    "\n",
    "Thus, we can select \"Random Forest\" for our given problem in oil production forecasting. "
   ]
  },
  {
   "cell_type": "markdown",
   "metadata": {},
   "source": [
    "## Part 3. Forecasting Estimated Ultimate Recovery (EUR) using ARIMA model"
   ]
  },
  {
   "cell_type": "code",
   "execution_count": 339,
   "metadata": {},
   "outputs": [
    {
     "name": "stdout",
     "output_type": "stream",
     "text": [
      "[130854587 130831615 130751622 ... 127820554 127820411 127799434]\n"
     ]
    }
   ],
   "source": [
    "print(df['Entity ID'].unique())"
   ]
  },
  {
   "cell_type": "code",
   "execution_count": 340,
   "metadata": {},
   "outputs": [],
   "source": [
    "unique_wells = df['Entity ID'].unique()\n"
   ]
  },
  {
   "cell_type": "code",
   "execution_count": 341,
   "metadata": {},
   "outputs": [
    {
     "data": {
      "text/plain": [
       "array([130854587, 130831615, 130751622, 130204826, 130157156, 130094870,\n",
       "       130029586, 130029585, 129869598, 129720697, 129645700, 129604914,\n",
       "       129566730, 129032549, 129018412, 129018408, 129018396, 128921475,\n",
       "       128906514, 128891587, 128891572, 128807013, 128806952, 128806898,\n",
       "       128806886, 128776703, 128776679, 128739066, 128739065, 128739063,\n",
       "       128739062, 128739007, 128739006, 128739000, 128738750, 128738708,\n",
       "       128737968, 128675439, 128675435, 128675431, 128675356, 128673745,\n",
       "       128659068, 128658882, 128658880, 128658877, 128658364, 128658357,\n",
       "       128658355, 128658348, 128658344, 128658338, 128658337, 128658330,\n",
       "       128658327, 128658307, 128658293, 128658290, 128658258, 128658257,\n",
       "       128658252, 128658251, 128658250, 128658244, 128658232, 128658231,\n",
       "       128658214, 128658213, 128658204, 128658203, 128658188, 128640136,\n",
       "       128640071, 128640038, 128640020, 128639926, 128639824, 128638455,\n",
       "       128638454, 128638453], dtype=int64)"
      ]
     },
     "execution_count": 341,
     "metadata": {},
     "output_type": "execute_result"
    }
   ],
   "source": [
    "unique_wells[0:80]"
   ]
  },
  {
   "cell_type": "code",
   "execution_count": 342,
   "metadata": {},
   "outputs": [
    {
     "name": "stdout",
     "output_type": "stream",
     "text": [
      "      Entity ID Monthly Production Date  Monthly Oil  Monthly Gas  \\\n",
      "5490  128658344                  1/1/84        935.0         26.0   \n",
      "5491  128658344                  2/1/84        726.0          0.0   \n",
      "5492  128658344                  3/1/84        788.0          0.0   \n",
      "5493  128658344                  4/1/84        759.0          0.0   \n",
      "5494  128658344                  5/1/84        818.0         28.0   \n",
      "...         ...                     ...          ...          ...   \n",
      "5954  128658344                  9/1/22         56.0        154.0   \n",
      "5955  128658344                 10/1/22         52.0        132.0   \n",
      "5956  128658344                 11/1/22         62.0        148.0   \n",
      "5957  128658344                 12/1/22         63.0        150.0   \n",
      "5958  128658344                  1/1/23         15.0         52.0   \n",
      "\n",
      "      Monthly Water  Well Count  Daily Avg Oil  Daily Avg Gas  \\\n",
      "5490          17147           1          30.16           0.84   \n",
      "5491          13605           1          25.03           0.00   \n",
      "5492          15157           1          25.42           0.00   \n",
      "5493          14954           1          25.30           0.00   \n",
      "5494          16492           1          26.39           0.90   \n",
      "...             ...         ...            ...            ...   \n",
      "5954           6987           1           1.87           5.13   \n",
      "5955           6419           1           1.68           4.26   \n",
      "5956           7770           1           2.07           4.93   \n",
      "5957           7826           1           2.03           4.84   \n",
      "5958           1876           1           0.48           1.68   \n",
      "\n",
      "      Daily Avg Water             Reservoir    Well/Lease Name Entity Type  \\\n",
      "5490           553.13  AMHYDRITE & DOLOMITE  JOHNSON GBSA UNIT         COM   \n",
      "5491           469.14  AMHYDRITE & DOLOMITE  JOHNSON GBSA UNIT         COM   \n",
      "5492           488.94  AMHYDRITE & DOLOMITE  JOHNSON GBSA UNIT         COM   \n",
      "5493           498.47  AMHYDRITE & DOLOMITE  JOHNSON GBSA UNIT         COM   \n",
      "5494           532.00  AMHYDRITE & DOLOMITE  JOHNSON GBSA UNIT         COM   \n",
      "...               ...                   ...                ...         ...   \n",
      "5954           232.90  AMHYDRITE & DOLOMITE  JOHNSON GBSA UNIT         COM   \n",
      "5955           207.06  AMHYDRITE & DOLOMITE  JOHNSON GBSA UNIT         COM   \n",
      "5956           259.00  AMHYDRITE & DOLOMITE  JOHNSON GBSA UNIT         COM   \n",
      "5957           252.45  AMHYDRITE & DOLOMITE  JOHNSON GBSA UNIT         COM   \n",
      "5958            60.52  AMHYDRITE & DOLOMITE  JOHNSON GBSA UNIT         COM   \n",
      "\n",
      "      Producing Month Number       GOR  \n",
      "5490                       1  0.027807  \n",
      "5491                       2  0.000000  \n",
      "5492                       3  0.000000  \n",
      "5493                       4  0.000000  \n",
      "5494                       5  0.034230  \n",
      "...                      ...       ...  \n",
      "5954                     465  2.750000  \n",
      "5955                     466  2.538462  \n",
      "5956                     467  2.387097  \n",
      "5957                     468  2.380952  \n",
      "5958                     469  3.466667  \n",
      "\n",
      "[469 rows x 14 columns]\n"
     ]
    }
   ],
   "source": [
    "# ARIMA Model for Estimated Ultimate Recovery (EUR)\n",
    "import pandas as pd\n",
    "import numpy as np\n",
    "import matplotlib.pyplot as plt\n",
    "from statsmodels.tsa.arima.model import ARIMA\n",
    "\n",
    "\n",
    "# # Preprocess the data\n",
    "# # df['Entity ID'] = pd.to_datetime(df['Monthly Production Date'])\n",
    "# df.set_index('Well/Lease Name', inplace=True)\n",
    "# df['Cumulative Oil'] = df['Monthly Oil'].cumsum()\n",
    "\n",
    "df5 = df[df['Entity ID'] == 128658344]\n",
    "print(df5)"
   ]
  },
  {
   "cell_type": "code",
   "execution_count": 343,
   "metadata": {},
   "outputs": [],
   "source": [
    "df5['Monthly Production Date'] = pd.to_datetime(df5['Monthly Production Date'])\n",
    "df5.set_index('Monthly Production Date', inplace=True)"
   ]
  },
  {
   "cell_type": "code",
   "execution_count": 344,
   "metadata": {},
   "outputs": [
    {
     "data": {
      "text/plain": [
       "Monthly Production Date\n",
       "1984-01-01    935.0\n",
       "1984-02-01    726.0\n",
       "1984-03-01    788.0\n",
       "1984-04-01    759.0\n",
       "1984-05-01    818.0\n",
       "              ...  \n",
       "2022-09-01     56.0\n",
       "2022-10-01     52.0\n",
       "2022-11-01     62.0\n",
       "2022-12-01     63.0\n",
       "2023-01-01     15.0\n",
       "Name: Monthly Oil, Length: 469, dtype: float64"
      ]
     },
     "execution_count": 344,
     "metadata": {},
     "output_type": "execute_result"
    }
   ],
   "source": [
    "monthly_oil_1 = df5['Monthly Oil']\n",
    "monthly_oil_1"
   ]
  },
  {
   "cell_type": "code",
   "execution_count": 345,
   "metadata": {},
   "outputs": [
    {
     "data": {
      "text/plain": [
       "Text(0.5, 1.0, 'Decline Curve')"
      ]
     },
     "execution_count": 345,
     "metadata": {},
     "output_type": "execute_result"
    },
    {
     "data": {
      "image/png": "[encoded data removed]",
      "text/plain": [
       "<Figure size 576x360 with 1 Axes>"
      ]
     },
     "metadata": {
      "needs_background": "light"
     },
     "output_type": "display_data"
    }
   ],
   "source": [
    "plt.figure(figsize=(8,5))\n",
    "plt.plot(monthly_oil_1)\n",
    "plt.title('Decline Curve')"
   ]
  },
  {
   "cell_type": "code",
   "execution_count": 346,
   "metadata": {},
   "outputs": [
    {
     "name": "stdout",
     "output_type": "stream",
     "text": [
      "Best (p, d, q) tuple: (2, 1, 1)\n"
     ]
    }
   ],
   "source": [
    "import warnings\n",
    "from statsmodels.tsa.arima.model import ARIMA\n",
    "from itertools import product\n",
    "\n",
    "# ignore warnings\n",
    "warnings.filterwarnings('ignore')\n",
    "\n",
    "# define the range for p, d, and q\n",
    "p = range(0, 3)\n",
    "d = range(0, 2)\n",
    "q = range(0, 3)\n",
    "\n",
    "# create a list of all possible (p, d, q) tuples\n",
    "pdq = list(product(p, d, q))\n",
    "\n",
    "# evaluate ARIMA model with each (p, d, q) tuple\n",
    "results = []\n",
    "for param in pdq:\n",
    "    try:\n",
    "        model_arima = ARIMA(monthly_oil_1, order=param)\n",
    "        model_arima_fit = model_arima.fit()\n",
    "        results.append((param, model_arima_fit.aic))\n",
    "    except:\n",
    "        continue\n",
    "\n",
    "# find the (p, d, q) tuple with the lowest AIC value\n",
    "best_pdq = min(results, key=lambda x: x[1])[0]\n",
    "\n",
    "# fit ARIMA model with the best (p, d, q) tuple\n",
    "model_arima = ARIMA(monthly_oil_1, order=best_pdq)\n",
    "model_arima_fit = model_arima.fit()\n",
    "\n",
    "# make ARIMA forecast\n",
    "arima_forecast = model_arima_fit.forecast(steps=1)\n",
    "\n",
    "# print forecasts and best (p, d, q) tuple\n",
    "print(\"Best (p, d, q) tuple:\", best_pdq)"
   ]
  },
  {
   "cell_type": "code",
   "execution_count": 347,
   "metadata": {},
   "outputs": [],
   "source": [
    "predictions = model_arima.fit().predict()"
   ]
  },
  {
   "cell_type": "code",
   "execution_count": 348,
   "metadata": {},
   "outputs": [
    {
     "data": {
      "text/plain": [
       "<matplotlib.legend.Legend at 0x1af3feb75e0>"
      ]
     },
     "execution_count": 348,
     "metadata": {},
     "output_type": "execute_result"
    },
    {
     "data": {
      "image/png": "[encoded data removed]",
      "text/plain": [
       "<Figure size 576x360 with 1 Axes>"
      ]
     },
     "metadata": {
      "needs_background": "light"
     },
     "output_type": "display_data"
    }
   ],
   "source": [
    "plt.figure(figsize=(8,5))\n",
    "plt.plot(monthly_oil_1, label=\"Actual\")\n",
    "plt.plot(predictions, label=\"Predicted\")\n",
    "plt.title('Decline Curve Analysis', fontsize=20)\n",
    "plt.ylabel('Oil Production', fontsize=16)\n",
    "plt.legend()"
   ]
  },
  {
   "cell_type": "code",
   "execution_count": 349,
   "metadata": {},
   "outputs": [
    {
     "data": {
      "text/plain": [
       "2023-02-01    36.024169\n",
       "2023-03-01    23.882454\n",
       "2023-04-01    27.683164\n",
       "2023-05-01    23.826865\n",
       "2023-06-01    23.654462\n",
       "2023-07-01    21.715975\n",
       "2023-08-01    20.630431\n",
       "2023-09-01    19.139224\n",
       "2023-10-01    17.847180\n",
       "2023-11-01    16.463636\n",
       "2023-12-01    15.128263\n",
       "2024-01-01    13.773932\n",
       "2024-02-01    12.432894\n",
       "2024-03-01    11.089642\n",
       "2024-04-01     9.751619\n",
       "2024-05-01     8.415239\n",
       "2024-06-01     7.082218\n",
       "2024-07-01     5.751721\n",
       "2024-08-01     4.424142\n",
       "2024-09-01     3.099282\n",
       "2024-10-01     1.777228\n",
       "2024-11-01     0.457930\n",
       "2024-12-01    -0.858596\n",
       "2025-01-01    -2.172367\n",
       "2025-02-01    -3.483383\n",
       "2025-03-01    -4.791654\n",
       "2025-04-01    -6.097182\n",
       "2025-05-01    -7.399975\n",
       "2025-06-01    -8.700038\n",
       "2025-07-01    -9.997377\n",
       "Freq: MS, Name: predicted_mean, dtype: float64"
      ]
     },
     "execution_count": 349,
     "metadata": {},
     "output_type": "execute_result"
    }
   ],
   "source": [
    "forecast_values = model_arima_fit.forecast(steps=30)\n",
    "forecast_values"
   ]
  },
  {
   "cell_type": "code",
   "execution_count": 350,
   "metadata": {},
   "outputs": [
    {
     "data": {
      "image/png": "[encoded data removed]",
      "text/plain": [
       "<Figure size 432x288 with 1 Axes>"
      ]
     },
     "metadata": {
      "needs_background": "light"
     },
     "output_type": "display_data"
    }
   ],
   "source": [
    "# Plot actual and forecasted values\n",
    "plt.plot(monthly_oil_1[-500:-1], label='Actual')\n",
    "plt.plot(forecast_values, label='Forecast')\n",
    "plt.legend(loc='upper left')\n",
    "plt.title('Monthly Oil Production Forecasting')\n",
    "plt.xlabel('Date')\n",
    "plt.ylabel('Oil Production (bbl)')\n",
    "plt.show()"
   ]
  },
  {
   "cell_type": "code",
   "execution_count": 351,
   "metadata": {},
   "outputs": [
    {
     "data": {
      "text/html": [
       "<div>\n",
       "<style scoped>\n",
       "    .dataframe tbody tr th:only-of-type {\n",
       "        vertical-align: middle;\n",
       "    }\n",
       "\n",
       "    .dataframe tbody tr th {\n",
       "        vertical-align: top;\n",
       "    }\n",
       "\n",
       "    .dataframe thead th {\n",
       "        text-align: right;\n",
       "    }\n",
       "</style>\n",
       "<table border=\"1\" class=\"dataframe\">\n",
       "  <thead>\n",
       "    <tr style=\"text-align: right;\">\n",
       "      <th></th>\n",
       "      <th>Entity ID</th>\n",
       "      <th>Monthly Production Date</th>\n",
       "      <th>Monthly Oil</th>\n",
       "      <th>Monthly Gas</th>\n",
       "      <th>Monthly Water</th>\n",
       "      <th>Well Count</th>\n",
       "      <th>Daily Avg Oil</th>\n",
       "      <th>Daily Avg Gas</th>\n",
       "      <th>Daily Avg Water</th>\n",
       "      <th>Reservoir</th>\n",
       "      <th>Well/Lease Name</th>\n",
       "      <th>Entity Type</th>\n",
       "      <th>Producing Month Number</th>\n",
       "      <th>GOR</th>\n",
       "    </tr>\n",
       "  </thead>\n",
       "  <tbody>\n",
       "    <tr>\n",
       "      <th>371474</th>\n",
       "      <td>127168831</td>\n",
       "      <td>10/1/78</td>\n",
       "      <td>274.0</td>\n",
       "      <td>73.0</td>\n",
       "      <td>5842</td>\n",
       "      <td>1</td>\n",
       "      <td>8.84</td>\n",
       "      <td>2.35</td>\n",
       "      <td>188.45</td>\n",
       "      <td>GRAYBURG</td>\n",
       "      <td>WITCHER, J. E.</td>\n",
       "      <td>COM</td>\n",
       "      <td>1</td>\n",
       "      <td>0.266423</td>\n",
       "    </tr>\n",
       "    <tr>\n",
       "      <th>371475</th>\n",
       "      <td>127168831</td>\n",
       "      <td>11/1/78</td>\n",
       "      <td>325.0</td>\n",
       "      <td>0.0</td>\n",
       "      <td>6972</td>\n",
       "      <td>1</td>\n",
       "      <td>10.83</td>\n",
       "      <td>0.00</td>\n",
       "      <td>232.40</td>\n",
       "      <td>GRAYBURG</td>\n",
       "      <td>WITCHER, J. E.</td>\n",
       "      <td>COM</td>\n",
       "      <td>2</td>\n",
       "      <td>0.000000</td>\n",
       "    </tr>\n",
       "    <tr>\n",
       "      <th>371476</th>\n",
       "      <td>127168831</td>\n",
       "      <td>12/1/78</td>\n",
       "      <td>308.0</td>\n",
       "      <td>120.0</td>\n",
       "      <td>6654</td>\n",
       "      <td>1</td>\n",
       "      <td>9.94</td>\n",
       "      <td>3.87</td>\n",
       "      <td>214.65</td>\n",
       "      <td>GRAYBURG</td>\n",
       "      <td>WITCHER, J. E.</td>\n",
       "      <td>COM</td>\n",
       "      <td>3</td>\n",
       "      <td>0.389610</td>\n",
       "    </tr>\n",
       "    <tr>\n",
       "      <th>371477</th>\n",
       "      <td>127168831</td>\n",
       "      <td>1/1/79</td>\n",
       "      <td>357.0</td>\n",
       "      <td>167.0</td>\n",
       "      <td>6101</td>\n",
       "      <td>1</td>\n",
       "      <td>11.52</td>\n",
       "      <td>5.39</td>\n",
       "      <td>196.81</td>\n",
       "      <td>GRAYBURG</td>\n",
       "      <td>WITCHER, J. E.</td>\n",
       "      <td>COM</td>\n",
       "      <td>4</td>\n",
       "      <td>0.467787</td>\n",
       "    </tr>\n",
       "    <tr>\n",
       "      <th>371478</th>\n",
       "      <td>127168831</td>\n",
       "      <td>2/1/79</td>\n",
       "      <td>415.0</td>\n",
       "      <td>151.0</td>\n",
       "      <td>5849</td>\n",
       "      <td>1</td>\n",
       "      <td>14.82</td>\n",
       "      <td>5.39</td>\n",
       "      <td>208.89</td>\n",
       "      <td>GRAYBURG</td>\n",
       "      <td>WITCHER, J. E.</td>\n",
       "      <td>COM</td>\n",
       "      <td>5</td>\n",
       "      <td>0.363855</td>\n",
       "    </tr>\n",
       "    <tr>\n",
       "      <th>...</th>\n",
       "      <td>...</td>\n",
       "      <td>...</td>\n",
       "      <td>...</td>\n",
       "      <td>...</td>\n",
       "      <td>...</td>\n",
       "      <td>...</td>\n",
       "      <td>...</td>\n",
       "      <td>...</td>\n",
       "      <td>...</td>\n",
       "      <td>...</td>\n",
       "      <td>...</td>\n",
       "      <td>...</td>\n",
       "      <td>...</td>\n",
       "      <td>...</td>\n",
       "    </tr>\n",
       "    <tr>\n",
       "      <th>372001</th>\n",
       "      <td>127168831</td>\n",
       "      <td>9/1/22</td>\n",
       "      <td>57.0</td>\n",
       "      <td>16.0</td>\n",
       "      <td>572</td>\n",
       "      <td>1</td>\n",
       "      <td>1.90</td>\n",
       "      <td>0.53</td>\n",
       "      <td>19.07</td>\n",
       "      <td>GRAYBURG</td>\n",
       "      <td>WITCHER, J. E.</td>\n",
       "      <td>COM</td>\n",
       "      <td>528</td>\n",
       "      <td>0.280702</td>\n",
       "    </tr>\n",
       "    <tr>\n",
       "      <th>372002</th>\n",
       "      <td>127168831</td>\n",
       "      <td>10/1/22</td>\n",
       "      <td>59.0</td>\n",
       "      <td>14.0</td>\n",
       "      <td>590</td>\n",
       "      <td>1</td>\n",
       "      <td>1.90</td>\n",
       "      <td>0.45</td>\n",
       "      <td>19.03</td>\n",
       "      <td>GRAYBURG</td>\n",
       "      <td>WITCHER, J. E.</td>\n",
       "      <td>COM</td>\n",
       "      <td>529</td>\n",
       "      <td>0.237288</td>\n",
       "    </tr>\n",
       "    <tr>\n",
       "      <th>372003</th>\n",
       "      <td>127168831</td>\n",
       "      <td>11/1/22</td>\n",
       "      <td>57.0</td>\n",
       "      <td>16.0</td>\n",
       "      <td>574</td>\n",
       "      <td>1</td>\n",
       "      <td>1.90</td>\n",
       "      <td>0.53</td>\n",
       "      <td>19.13</td>\n",
       "      <td>GRAYBURG</td>\n",
       "      <td>WITCHER, J. E.</td>\n",
       "      <td>COM</td>\n",
       "      <td>530</td>\n",
       "      <td>0.280702</td>\n",
       "    </tr>\n",
       "    <tr>\n",
       "      <th>372004</th>\n",
       "      <td>127168831</td>\n",
       "      <td>12/1/22</td>\n",
       "      <td>48.0</td>\n",
       "      <td>14.0</td>\n",
       "      <td>477</td>\n",
       "      <td>1</td>\n",
       "      <td>1.55</td>\n",
       "      <td>0.45</td>\n",
       "      <td>15.39</td>\n",
       "      <td>GRAYBURG</td>\n",
       "      <td>WITCHER, J. E.</td>\n",
       "      <td>COM</td>\n",
       "      <td>531</td>\n",
       "      <td>0.291667</td>\n",
       "    </tr>\n",
       "    <tr>\n",
       "      <th>372005</th>\n",
       "      <td>127168831</td>\n",
       "      <td>1/1/23</td>\n",
       "      <td>59.0</td>\n",
       "      <td>16.0</td>\n",
       "      <td>589</td>\n",
       "      <td>1</td>\n",
       "      <td>1.90</td>\n",
       "      <td>0.52</td>\n",
       "      <td>19.00</td>\n",
       "      <td>GRAYBURG</td>\n",
       "      <td>WITCHER, J. E.</td>\n",
       "      <td>COM</td>\n",
       "      <td>532</td>\n",
       "      <td>0.271186</td>\n",
       "    </tr>\n",
       "  </tbody>\n",
       "</table>\n",
       "<p>532 rows × 14 columns</p>\n",
       "</div>"
      ],
      "text/plain": [
       "        Entity ID Monthly Production Date  Monthly Oil  Monthly Gas  \\\n",
       "371474  127168831                 10/1/78        274.0         73.0   \n",
       "371475  127168831                 11/1/78        325.0          0.0   \n",
       "371476  127168831                 12/1/78        308.0        120.0   \n",
       "371477  127168831                  1/1/79        357.0        167.0   \n",
       "371478  127168831                  2/1/79        415.0        151.0   \n",
       "...           ...                     ...          ...          ...   \n",
       "372001  127168831                  9/1/22         57.0         16.0   \n",
       "372002  127168831                 10/1/22         59.0         14.0   \n",
       "372003  127168831                 11/1/22         57.0         16.0   \n",
       "372004  127168831                 12/1/22         48.0         14.0   \n",
       "372005  127168831                  1/1/23         59.0         16.0   \n",
       "\n",
       "        Monthly Water  Well Count  Daily Avg Oil  Daily Avg Gas  \\\n",
       "371474           5842           1           8.84           2.35   \n",
       "371475           6972           1          10.83           0.00   \n",
       "371476           6654           1           9.94           3.87   \n",
       "371477           6101           1          11.52           5.39   \n",
       "371478           5849           1          14.82           5.39   \n",
       "...               ...         ...            ...            ...   \n",
       "372001            572           1           1.90           0.53   \n",
       "372002            590           1           1.90           0.45   \n",
       "372003            574           1           1.90           0.53   \n",
       "372004            477           1           1.55           0.45   \n",
       "372005            589           1           1.90           0.52   \n",
       "\n",
       "        Daily Avg Water Reservoir Well/Lease Name Entity Type  \\\n",
       "371474           188.45  GRAYBURG  WITCHER, J. E.         COM   \n",
       "371475           232.40  GRAYBURG  WITCHER, J. E.         COM   \n",
       "371476           214.65  GRAYBURG  WITCHER, J. E.         COM   \n",
       "371477           196.81  GRAYBURG  WITCHER, J. E.         COM   \n",
       "371478           208.89  GRAYBURG  WITCHER, J. E.         COM   \n",
       "...                 ...       ...             ...         ...   \n",
       "372001            19.07  GRAYBURG  WITCHER, J. E.         COM   \n",
       "372002            19.03  GRAYBURG  WITCHER, J. E.         COM   \n",
       "372003            19.13  GRAYBURG  WITCHER, J. E.         COM   \n",
       "372004            15.39  GRAYBURG  WITCHER, J. E.         COM   \n",
       "372005            19.00  GRAYBURG  WITCHER, J. E.         COM   \n",
       "\n",
       "        Producing Month Number       GOR  \n",
       "371474                       1  0.266423  \n",
       "371475                       2  0.000000  \n",
       "371476                       3  0.389610  \n",
       "371477                       4  0.467787  \n",
       "371478                       5  0.363855  \n",
       "...                        ...       ...  \n",
       "372001                     528  0.280702  \n",
       "372002                     529  0.237288  \n",
       "372003                     530  0.280702  \n",
       "372004                     531  0.291667  \n",
       "372005                     532  0.271186  \n",
       "\n",
       "[532 rows x 14 columns]"
      ]
     },
     "execution_count": 351,
     "metadata": {},
     "output_type": "execute_result"
    }
   ],
   "source": [
    "df7 = df[df['Entity ID'] == 127168831]\n",
    "df7\n"
   ]
  },
  {
   "cell_type": "code",
   "execution_count": 352,
   "metadata": {},
   "outputs": [],
   "source": [
    "df7['Monthly Production Date'] = pd.to_datetime(df7['Monthly Production Date'])\n",
    "df7.set_index('Monthly Production Date', inplace=True)"
   ]
  },
  {
   "cell_type": "code",
   "execution_count": 353,
   "metadata": {},
   "outputs": [
    {
     "data": {
      "text/plain": [
       "Text(0.5, 1.0, 'Decline Curve')"
      ]
     },
     "execution_count": 353,
     "metadata": {},
     "output_type": "execute_result"
    },
    {
     "data": {
      "image/png": "[encoded data removed]",
      "text/plain": [
       "<Figure size 576x360 with 1 Axes>"
      ]
     },
     "metadata": {
      "needs_background": "light"
     },
     "output_type": "display_data"
    }
   ],
   "source": [
    "monthly_oil_3 = df7['Monthly Oil']\n",
    "plt.figure(figsize=(8,5))\n",
    "plt.plot(monthly_oil_3)\n",
    "plt.title(\"Decline Curve\", fontsize=20)"
   ]
  },
  {
   "cell_type": "code",
   "execution_count": 354,
   "metadata": {},
   "outputs": [
    {
     "data": {
      "text/plain": [
       "Monthly Production Date\n",
       "1978-10-01    274.0\n",
       "1978-11-01    325.0\n",
       "1978-12-01    308.0\n",
       "1979-01-01    357.0\n",
       "1979-02-01    415.0\n",
       "              ...  \n",
       "2022-09-01     57.0\n",
       "2022-10-01     59.0\n",
       "2022-11-01     57.0\n",
       "2022-12-01     48.0\n",
       "2023-01-01     59.0\n",
       "Name: Monthly Oil, Length: 532, dtype: float64"
      ]
     },
     "execution_count": 354,
     "metadata": {},
     "output_type": "execute_result"
    }
   ],
   "source": [
    "monthly_oil_3"
   ]
  },
  {
   "cell_type": "code",
   "execution_count": 355,
   "metadata": {},
   "outputs": [
    {
     "name": "stdout",
     "output_type": "stream",
     "text": [
      "Best (p, d, q) tuple: (2, 1, 1)\n"
     ]
    }
   ],
   "source": [
    "# define the range for p, d, and q\n",
    "p = range(0, 3)\n",
    "d = range(0, 2)\n",
    "q = range(0, 3)\n",
    "\n",
    "# create a list of all possible (p, d, q) tuples\n",
    "pdq = list(product(p, d, q))\n",
    "\n",
    "# evaluate ARIMA model with each (p, d, q) tuple\n",
    "results = []\n",
    "for param in pdq:\n",
    "    try:\n",
    "        model_arima = ARIMA(monthly_oil_3, order=param)\n",
    "        model_arima_fit = model_arima.fit()\n",
    "        results.append((param, model_arima_fit.aic))\n",
    "    except:\n",
    "        continue\n",
    "\n",
    "# find the (p, d, q) tuple with the lowest AIC value\n",
    "best_pdq = min(results, key=lambda x: x[1])[0]\n",
    "\n",
    "# fit ARIMA model with the best (p, d, q) tuple\n",
    "model_arima = ARIMA(monthly_oil_3, order=best_pdq)\n",
    "model_arima_fit = model_arima.fit()\n",
    "\n",
    "# make ARIMA forecast\n",
    "arima_forecast = model_arima_fit.forecast(steps=1)\n",
    "\n",
    "# print forecasts and best (p, d, q) tuple\n",
    "print(\"Best (p, d, q) tuple:\", best_pdq)\n",
    "# print(\"ARIMA Forecast:\", arima_forecast[0])"
   ]
  },
  {
   "cell_type": "code",
   "execution_count": 356,
   "metadata": {},
   "outputs": [],
   "source": [
    "predictions = model_arima.fit().predict()"
   ]
  },
  {
   "cell_type": "code",
   "execution_count": 357,
   "metadata": {},
   "outputs": [
    {
     "data": {
      "text/plain": [
       "<matplotlib.legend.Legend at 0x1af47ecddf0>"
      ]
     },
     "execution_count": 357,
     "metadata": {},
     "output_type": "execute_result"
    },
    {
     "data": {
      "image/png": "[encoded data removed]",
      "text/plain": [
       "<Figure size 576x360 with 1 Axes>"
      ]
     },
     "metadata": {
      "needs_background": "light"
     },
     "output_type": "display_data"
    }
   ],
   "source": [
    "plt.figure(figsize=(8,5))\n",
    "plt.plot(monthly_oil_3, label=\"Actual\")\n",
    "plt.plot(predictions, label=\"Predicted\")\n",
    "plt.title('Actual and Predicted monthly Oil Production', fontsize=20)\n",
    "plt.ylabel('Oil Production', fontsize=16)\n",
    "plt.legend()"
   ]
  },
  {
   "cell_type": "code",
   "execution_count": 358,
   "metadata": {},
   "outputs": [
    {
     "data": {
      "text/plain": [
       "2023-02-01    53.803716\n",
       "2023-03-01    55.772032\n",
       "2023-04-01    54.588711\n",
       "2023-05-01    54.808777\n",
       "2023-06-01    54.420374\n",
       "2023-07-01    54.311486\n",
       "2023-08-01    54.089592\n",
       "2023-09-01    53.927635\n",
       "2023-10-01    53.748874\n",
       "2023-11-01    53.586837\n",
       "2023-12-01    53.426372\n",
       "2024-01-01    53.273837\n",
       "2024-02-01    53.126104\n",
       "2024-03-01    52.984246\n",
       "2024-04-01    52.847492\n",
       "2024-05-01    52.715897\n",
       "2024-06-01    52.589160\n",
       "2024-07-01    52.467148\n",
       "2024-08-01    52.349666\n",
       "2024-09-01    52.236553\n",
       "2024-10-01    52.127644\n",
       "2024-11-01    52.022784\n",
       "2024-12-01    51.921821\n",
       "2025-01-01    51.824611\n",
       "2025-02-01    51.731015\n",
       "2025-03-01    51.640898\n",
       "2025-04-01    51.554131\n",
       "2025-05-01    51.470589\n",
       "2025-06-01    51.390153\n",
       "2025-07-01    51.312707\n",
       "Freq: MS, Name: predicted_mean, dtype: float64"
      ]
     },
     "execution_count": 358,
     "metadata": {},
     "output_type": "execute_result"
    }
   ],
   "source": [
    "forecast_values = model_arima_fit.forecast(30)\n",
    "forecast_values"
   ]
  },
  {
   "cell_type": "code",
   "execution_count": 359,
   "metadata": {},
   "outputs": [
    {
     "data": {
      "image/png": "[encoded data removed]",
      "text/plain": [
       "<Figure size 432x288 with 1 Axes>"
      ]
     },
     "metadata": {
      "needs_background": "light"
     },
     "output_type": "display_data"
    }
   ],
   "source": [
    "# Plot actual and forecasted values\n",
    "plt.plot(monthly_oil_3[-270:-1], label='Actual')\n",
    "plt.plot(forecast_values, label='Forecast')\n",
    "plt.legend(loc='upper left')\n",
    "plt.title('Monthly Oil Production Forecasting')\n",
    "plt.xlabel('Date')\n",
    "plt.ylabel('Oil Production (bbl)')\n",
    "plt.show()"
   ]
  },
  {
   "cell_type": "code",
   "execution_count": 360,
   "metadata": {},
   "outputs": [
    {
     "name": "stdout",
     "output_type": "stream",
     "text": [
      "    Entity ID  count\n",
      "0      474853    888\n",
      "1      474870    826\n",
      "2      475095    849\n",
      "3      475107    870\n",
      "4   127168547    541\n",
      "5   127168569    829\n",
      "6   127168797    458\n",
      "7   127168815    428\n",
      "8   127168831    532\n",
      "15  127168910    672\n",
      "16  127178942    865\n",
      "17  127178981    718\n",
      "18  127179173    496\n",
      "19  127179184    459\n",
      "20  127179206    419\n",
      "25  127179274    544\n",
      "26  127179275    718\n",
      "27  127189161    686\n",
      "28  127189229    739\n",
      "29  127189246    560\n"
     ]
    }
   ],
   "source": [
    "# group by entity id and count the number of rows for each group\n",
    "grouped_df = df.groupby('Entity ID').size().reset_index(name='count')\n",
    "\n",
    "# filter the groups with count greater than 400\n",
    "filtered_df = grouped_df[grouped_df['count'] > 400]\n",
    "\n",
    "# print the filtered dataframe\n",
    "print(filtered_df.head(20))"
   ]
  },
  {
   "cell_type": "code",
   "execution_count": 361,
   "metadata": {},
   "outputs": [
    {
     "data": {
      "text/html": [
       "<div>\n",
       "<style scoped>\n",
       "    .dataframe tbody tr th:only-of-type {\n",
       "        vertical-align: middle;\n",
       "    }\n",
       "\n",
       "    .dataframe tbody tr th {\n",
       "        vertical-align: top;\n",
       "    }\n",
       "\n",
       "    .dataframe thead th {\n",
       "        text-align: right;\n",
       "    }\n",
       "</style>\n",
       "<table border=\"1\" class=\"dataframe\">\n",
       "  <thead>\n",
       "    <tr style=\"text-align: right;\">\n",
       "      <th></th>\n",
       "      <th>Entity ID</th>\n",
       "      <th>Monthly Production Date</th>\n",
       "      <th>Monthly Oil</th>\n",
       "      <th>Monthly Gas</th>\n",
       "      <th>Monthly Water</th>\n",
       "      <th>Well Count</th>\n",
       "      <th>Daily Avg Oil</th>\n",
       "      <th>Daily Avg Gas</th>\n",
       "      <th>Daily Avg Water</th>\n",
       "      <th>Reservoir</th>\n",
       "      <th>Well/Lease Name</th>\n",
       "      <th>Entity Type</th>\n",
       "      <th>Producing Month Number</th>\n",
       "      <th>GOR</th>\n",
       "    </tr>\n",
       "  </thead>\n",
       "  <tbody>\n",
       "    <tr>\n",
       "      <th>364666</th>\n",
       "      <td>127179274</td>\n",
       "      <td>10/1/77</td>\n",
       "      <td>324.0</td>\n",
       "      <td>241.0</td>\n",
       "      <td>2891</td>\n",
       "      <td>1</td>\n",
       "      <td>10.45</td>\n",
       "      <td>7.77</td>\n",
       "      <td>93.26</td>\n",
       "      <td>AMHY</td>\n",
       "      <td>SOUTH FOSTER UNIT</td>\n",
       "      <td>COM</td>\n",
       "      <td>1</td>\n",
       "      <td>0.743827</td>\n",
       "    </tr>\n",
       "    <tr>\n",
       "      <th>364667</th>\n",
       "      <td>127179274</td>\n",
       "      <td>11/1/77</td>\n",
       "      <td>216.0</td>\n",
       "      <td>0.0</td>\n",
       "      <td>1789</td>\n",
       "      <td>1</td>\n",
       "      <td>7.20</td>\n",
       "      <td>0.00</td>\n",
       "      <td>59.63</td>\n",
       "      <td>AMHY</td>\n",
       "      <td>SOUTH FOSTER UNIT</td>\n",
       "      <td>COM</td>\n",
       "      <td>2</td>\n",
       "      <td>0.000000</td>\n",
       "    </tr>\n",
       "    <tr>\n",
       "      <th>364668</th>\n",
       "      <td>127179274</td>\n",
       "      <td>12/1/77</td>\n",
       "      <td>288.0</td>\n",
       "      <td>311.0</td>\n",
       "      <td>1744</td>\n",
       "      <td>1</td>\n",
       "      <td>9.29</td>\n",
       "      <td>10.03</td>\n",
       "      <td>56.26</td>\n",
       "      <td>AMHY</td>\n",
       "      <td>SOUTH FOSTER UNIT</td>\n",
       "      <td>COM</td>\n",
       "      <td>3</td>\n",
       "      <td>1.079861</td>\n",
       "    </tr>\n",
       "    <tr>\n",
       "      <th>364669</th>\n",
       "      <td>127179274</td>\n",
       "      <td>1/1/78</td>\n",
       "      <td>360.0</td>\n",
       "      <td>299.0</td>\n",
       "      <td>1702</td>\n",
       "      <td>1</td>\n",
       "      <td>11.61</td>\n",
       "      <td>9.65</td>\n",
       "      <td>54.90</td>\n",
       "      <td>AMHY</td>\n",
       "      <td>SOUTH FOSTER UNIT</td>\n",
       "      <td>COM</td>\n",
       "      <td>4</td>\n",
       "      <td>0.830556</td>\n",
       "    </tr>\n",
       "    <tr>\n",
       "      <th>364670</th>\n",
       "      <td>127179274</td>\n",
       "      <td>2/1/78</td>\n",
       "      <td>408.0</td>\n",
       "      <td>237.0</td>\n",
       "      <td>1600</td>\n",
       "      <td>1</td>\n",
       "      <td>14.57</td>\n",
       "      <td>8.46</td>\n",
       "      <td>57.14</td>\n",
       "      <td>AMHY</td>\n",
       "      <td>SOUTH FOSTER UNIT</td>\n",
       "      <td>COM</td>\n",
       "      <td>5</td>\n",
       "      <td>0.580882</td>\n",
       "    </tr>\n",
       "    <tr>\n",
       "      <th>...</th>\n",
       "      <td>...</td>\n",
       "      <td>...</td>\n",
       "      <td>...</td>\n",
       "      <td>...</td>\n",
       "      <td>...</td>\n",
       "      <td>...</td>\n",
       "      <td>...</td>\n",
       "      <td>...</td>\n",
       "      <td>...</td>\n",
       "      <td>...</td>\n",
       "      <td>...</td>\n",
       "      <td>...</td>\n",
       "      <td>...</td>\n",
       "      <td>...</td>\n",
       "    </tr>\n",
       "    <tr>\n",
       "      <th>365205</th>\n",
       "      <td>127179274</td>\n",
       "      <td>9/1/22</td>\n",
       "      <td>6.0</td>\n",
       "      <td>19.0</td>\n",
       "      <td>161</td>\n",
       "      <td>1</td>\n",
       "      <td>0.20</td>\n",
       "      <td>0.63</td>\n",
       "      <td>5.37</td>\n",
       "      <td>AMHY</td>\n",
       "      <td>SOUTH FOSTER UNIT</td>\n",
       "      <td>COM</td>\n",
       "      <td>540</td>\n",
       "      <td>3.166667</td>\n",
       "    </tr>\n",
       "    <tr>\n",
       "      <th>365206</th>\n",
       "      <td>127179274</td>\n",
       "      <td>10/1/22</td>\n",
       "      <td>6.0</td>\n",
       "      <td>16.0</td>\n",
       "      <td>154</td>\n",
       "      <td>1</td>\n",
       "      <td>0.19</td>\n",
       "      <td>0.52</td>\n",
       "      <td>4.97</td>\n",
       "      <td>AMHY</td>\n",
       "      <td>SOUTH FOSTER UNIT</td>\n",
       "      <td>COM</td>\n",
       "      <td>541</td>\n",
       "      <td>2.666667</td>\n",
       "    </tr>\n",
       "    <tr>\n",
       "      <th>365207</th>\n",
       "      <td>127179274</td>\n",
       "      <td>11/1/22</td>\n",
       "      <td>5.0</td>\n",
       "      <td>17.0</td>\n",
       "      <td>128</td>\n",
       "      <td>1</td>\n",
       "      <td>0.17</td>\n",
       "      <td>0.57</td>\n",
       "      <td>4.27</td>\n",
       "      <td>AMHY</td>\n",
       "      <td>SOUTH FOSTER UNIT</td>\n",
       "      <td>COM</td>\n",
       "      <td>542</td>\n",
       "      <td>3.400000</td>\n",
       "    </tr>\n",
       "    <tr>\n",
       "      <th>365208</th>\n",
       "      <td>127179274</td>\n",
       "      <td>12/1/22</td>\n",
       "      <td>5.0</td>\n",
       "      <td>14.0</td>\n",
       "      <td>127</td>\n",
       "      <td>1</td>\n",
       "      <td>0.16</td>\n",
       "      <td>0.45</td>\n",
       "      <td>4.10</td>\n",
       "      <td>AMHY</td>\n",
       "      <td>SOUTH FOSTER UNIT</td>\n",
       "      <td>COM</td>\n",
       "      <td>543</td>\n",
       "      <td>2.800000</td>\n",
       "    </tr>\n",
       "    <tr>\n",
       "      <th>365209</th>\n",
       "      <td>127179274</td>\n",
       "      <td>1/1/23</td>\n",
       "      <td>7.0</td>\n",
       "      <td>19.0</td>\n",
       "      <td>183</td>\n",
       "      <td>1</td>\n",
       "      <td>0.23</td>\n",
       "      <td>0.61</td>\n",
       "      <td>5.90</td>\n",
       "      <td>AMHY</td>\n",
       "      <td>SOUTH FOSTER UNIT</td>\n",
       "      <td>COM</td>\n",
       "      <td>544</td>\n",
       "      <td>2.714286</td>\n",
       "    </tr>\n",
       "  </tbody>\n",
       "</table>\n",
       "<p>544 rows × 14 columns</p>\n",
       "</div>"
      ],
      "text/plain": [
       "        Entity ID Monthly Production Date  Monthly Oil  Monthly Gas  \\\n",
       "364666  127179274                 10/1/77        324.0        241.0   \n",
       "364667  127179274                 11/1/77        216.0          0.0   \n",
       "364668  127179274                 12/1/77        288.0        311.0   \n",
       "364669  127179274                  1/1/78        360.0        299.0   \n",
       "364670  127179274                  2/1/78        408.0        237.0   \n",
       "...           ...                     ...          ...          ...   \n",
       "365205  127179274                  9/1/22          6.0         19.0   \n",
       "365206  127179274                 10/1/22          6.0         16.0   \n",
       "365207  127179274                 11/1/22          5.0         17.0   \n",
       "365208  127179274                 12/1/22          5.0         14.0   \n",
       "365209  127179274                  1/1/23          7.0         19.0   \n",
       "\n",
       "        Monthly Water  Well Count  Daily Avg Oil  Daily Avg Gas  \\\n",
       "364666           2891           1          10.45           7.77   \n",
       "364667           1789           1           7.20           0.00   \n",
       "364668           1744           1           9.29          10.03   \n",
       "364669           1702           1          11.61           9.65   \n",
       "364670           1600           1          14.57           8.46   \n",
       "...               ...         ...            ...            ...   \n",
       "365205            161           1           0.20           0.63   \n",
       "365206            154           1           0.19           0.52   \n",
       "365207            128           1           0.17           0.57   \n",
       "365208            127           1           0.16           0.45   \n",
       "365209            183           1           0.23           0.61   \n",
       "\n",
       "        Daily Avg Water Reservoir    Well/Lease Name Entity Type  \\\n",
       "364666            93.26      AMHY  SOUTH FOSTER UNIT         COM   \n",
       "364667            59.63      AMHY  SOUTH FOSTER UNIT         COM   \n",
       "364668            56.26      AMHY  SOUTH FOSTER UNIT         COM   \n",
       "364669            54.90      AMHY  SOUTH FOSTER UNIT         COM   \n",
       "364670            57.14      AMHY  SOUTH FOSTER UNIT         COM   \n",
       "...                 ...       ...                ...         ...   \n",
       "365205             5.37      AMHY  SOUTH FOSTER UNIT         COM   \n",
       "365206             4.97      AMHY  SOUTH FOSTER UNIT         COM   \n",
       "365207             4.27      AMHY  SOUTH FOSTER UNIT         COM   \n",
       "365208             4.10      AMHY  SOUTH FOSTER UNIT         COM   \n",
       "365209             5.90      AMHY  SOUTH FOSTER UNIT         COM   \n",
       "\n",
       "        Producing Month Number       GOR  \n",
       "364666                       1  0.743827  \n",
       "364667                       2  0.000000  \n",
       "364668                       3  1.079861  \n",
       "364669                       4  0.830556  \n",
       "364670                       5  0.580882  \n",
       "...                        ...       ...  \n",
       "365205                     540  3.166667  \n",
       "365206                     541  2.666667  \n",
       "365207                     542  3.400000  \n",
       "365208                     543  2.800000  \n",
       "365209                     544  2.714286  \n",
       "\n",
       "[544 rows x 14 columns]"
      ]
     },
     "execution_count": 361,
     "metadata": {},
     "output_type": "execute_result"
    }
   ],
   "source": [
    "df8 = df[df['Entity ID'] == 127179274]\n",
    "df8"
   ]
  },
  {
   "cell_type": "code",
   "execution_count": 362,
   "metadata": {},
   "outputs": [],
   "source": [
    "df8['Monthly Production Date'] = pd.to_datetime(df8['Monthly Production Date'])\n",
    "df8.set_index('Monthly Production Date', inplace=True)\n",
    "monthly_oil_4 = df8['Monthly Oil']"
   ]
  },
  {
   "cell_type": "code",
   "execution_count": 363,
   "metadata": {},
   "outputs": [
    {
     "data": {
      "text/plain": [
       "Text(0.5, 1.0, 'Decline Curve')"
      ]
     },
     "execution_count": 363,
     "metadata": {},
     "output_type": "execute_result"
    },
    {
     "data": {
      "image/png": "[encoded data removed]",
      "text/plain": [
       "<Figure size 576x360 with 1 Axes>"
      ]
     },
     "metadata": {
      "needs_background": "light"
     },
     "output_type": "display_data"
    }
   ],
   "source": [
    "\n",
    "plt.figure(figsize=(8,5))\n",
    "plt.plot(monthly_oil_4)\n",
    "plt.title(\"Decline Curve\", fontsize=20)\n"
   ]
  },
  {
   "cell_type": "code",
   "execution_count": 364,
   "metadata": {},
   "outputs": [
    {
     "name": "stdout",
     "output_type": "stream",
     "text": [
      "Best (p, d, q) tuple: (2, 1, 2)\n"
     ]
    }
   ],
   "source": [
    "# define the range for p, d, and q\n",
    "p = range(0, 3)\n",
    "d = range(0, 2)\n",
    "q = range(0, 3)\n",
    "\n",
    "# create a list of all possible (p, d, q) tuples\n",
    "pdq = list(product(p, d, q))\n",
    "\n",
    "# evaluate ARIMA model with each (p, d, q) tuple\n",
    "results = []\n",
    "for param in pdq:\n",
    "    try:\n",
    "        model_arima = ARIMA(monthly_oil_4, order=param)\n",
    "        model_arima_fit = model_arima.fit()\n",
    "        results.append((param, model_arima_fit.aic))\n",
    "    except:\n",
    "        continue\n",
    "\n",
    "# find the (p, d, q) tuple with the lowest AIC value\n",
    "best_pdq = min(results, key=lambda x: x[1])[0]\n",
    "\n",
    "# fit ARIMA model with the best (p, d, q) tuple\n",
    "model_arima = ARIMA(monthly_oil_4, order=best_pdq)\n",
    "model_arima_fit = model_arima.fit()\n",
    "\n",
    "# make ARIMA forecast\n",
    "arima_forecast = model_arima_fit.forecast(steps=1)\n",
    "\n",
    "# print forecasts and best (p, d, q) tuple\n",
    "print(\"Best (p, d, q) tuple:\", best_pdq)\n",
    "# print(\"ARIMA Forecast:\", arima_forecast[0])"
   ]
  },
  {
   "cell_type": "code",
   "execution_count": 365,
   "metadata": {},
   "outputs": [],
   "source": [
    "model_arima = ARIMA(monthly_oil_4, order=(1,1,1))\n",
    "model_arima_fit = model_arima.fit()\n",
    "predictions = model_arima.fit().predict()"
   ]
  },
  {
   "cell_type": "code",
   "execution_count": 366,
   "metadata": {},
   "outputs": [
    {
     "data": {
      "text/plain": [
       "<matplotlib.legend.Legend at 0x1af4afd3a60>"
      ]
     },
     "execution_count": 366,
     "metadata": {},
     "output_type": "execute_result"
    },
    {
     "data": {
      "image/png": "[encoded data removed]",
      "text/plain": [
       "<Figure size 576x360 with 1 Axes>"
      ]
     },
     "metadata": {
      "needs_background": "light"
     },
     "output_type": "display_data"
    }
   ],
   "source": [
    "plt.figure(figsize=(8,5))\n",
    "plt.plot(monthly_oil_4, label=\"Actual\")\n",
    "plt.plot(predictions, label=\"Predicted\")\n",
    "plt.title('Actual and Predicted monthly Oil Production', fontsize=20)\n",
    "plt.ylabel('Oil Production', fontsize=16)\n",
    "plt.legend()\n"
   ]
  },
  {
   "cell_type": "code",
   "execution_count": 367,
   "metadata": {},
   "outputs": [
    {
     "data": {
      "text/plain": [
       "2023-02-01    7.643260\n",
       "2023-03-01    7.831151\n",
       "2023-04-01    7.886033\n",
       "2023-05-01    7.902063\n",
       "2023-06-01    7.906746\n",
       "                ...   \n",
       "2028-07-01    7.908678\n",
       "2028-08-01    7.908678\n",
       "2028-09-01    7.908678\n",
       "2028-10-01    7.908678\n",
       "2028-11-01    7.908678\n",
       "Freq: MS, Name: predicted_mean, Length: 70, dtype: float64"
      ]
     },
     "execution_count": 367,
     "metadata": {},
     "output_type": "execute_result"
    }
   ],
   "source": [
    "forecast_values = model_arima_fit.forecast(70)\n",
    "forecast_values\n"
   ]
  },
  {
   "cell_type": "code",
   "execution_count": 368,
   "metadata": {},
   "outputs": [
    {
     "data": {
      "image/png": "[encoded data removed]",
      "text/plain": [
       "<Figure size 720x360 with 1 Axes>"
      ]
     },
     "metadata": {
      "needs_background": "light"
     },
     "output_type": "display_data"
    }
   ],
   "source": [
    "# Plot actual and forecasted values\n",
    "plt.figure(figsize=(10,5))\n",
    "plt.plot(monthly_oil_4[-550:-1], label='Actual')\n",
    "plt.plot(forecast_values, label='Forecast')\n",
    "plt.legend(loc='upper left')\n",
    "plt.title('Monthly Oil Production Forecasting')\n",
    "plt.xlabel('Date')\n",
    "plt.ylabel('Oil Production (bbl)')\n",
    "plt.show()"
   ]
  },
  {
   "attachments": {},
   "cell_type": "markdown",
   "metadata": {},
   "source": [
    "## Conclusion:"
   ]
  },
  {
   "cell_type": "markdown",
   "metadata": {},
   "source": []
  }
 ],
 "metadata": {
  "kernelspec": {
   "display_name": "MachineLearning",
   "language": "python",
   "name": "python3"
  },
  "language_info": {
   "codemirror_mode": {
    "name": "ipython",
    "version": 3
   },
   "file_extension": ".py",
   "mimetype": "text/x-python",
   "name": "python",
   "nbconvert_exporter": "python",
   "pygments_lexer": "ipython3",
   "version": "3.9.12"
  },
  "orig_nbformat": 4
 },
 "nbformat": 4,
 "nbformat_minor": 2
}
